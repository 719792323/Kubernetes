{
 "cells": [
  {
   "cell_type": "code",
   "execution_count": 1,
   "outputs": [],
   "source": [
    "# https://www.cnblogs.com/machangwei-8/p/15925358.html\n",
    "from kubernetes import client, config\n",
    "# 加载认证文件\n",
    "# config.kube_config.load_kube_config(\"minikube_config.yml\")\n",
    "config.kube_config.load_kube_config(\"config.yml\")"
   ],
   "metadata": {
    "collapsed": false,
    "pycharm": {
     "name": "#%%\n"
    }
   }
  },
  {
   "cell_type": "code",
   "execution_count": 2,
   "outputs": [],
   "source": [
    "#获取CoreV1Api和BatchV1Api版本对象\n",
    "core_v1 = client.CoreV1Api()  #用于操作核心v1 API组中的资源，如Pod、Service、Node、Namespace等\n",
    "batch_v1 = client.BatchV1Api()  #用于操作Job等资源\n",
    "apps_v1 = client.AppsV1Api()  #用于操作Deployment、DaemonSet、ReplicaSet和StatefulSet\n",
    "custom_api = client.CustomObjectsApi()  #用于操作CRD"
   ],
   "metadata": {
    "collapsed": false,
    "pycharm": {
     "name": "#%%\n"
    }
   }
  },
  {
   "cell_type": "code",
   "execution_count": 3,
   "outputs": [
    {
     "name": "stdout",
     "output_type": "stream",
     "text": [
      "default\n",
      "kube-node-lease\n",
      "kube-public\n",
      "kube-system\n",
      "kuboard\n"
     ]
    }
   ],
   "source": [
    "# 列出命名空间\n",
    "for ns in core_v1.list_namespace().items:\n",
    "    print(ns.metadata.name)"
   ],
   "metadata": {
    "collapsed": false,
    "pycharm": {
     "name": "#%%\n"
    }
   }
  },
  {
   "cell_type": "code",
   "execution_count": 4,
   "outputs": [
    {
     "name": "stdout",
     "output_type": "stream",
     "text": [
      "name:bigdata1,status:Ready,ip:192.168.0.44,version:v1.17.4,os:CentOS Linux 7 (Core)\n",
      "name:bigdata2,status:Ready,ip:192.168.0.18,version:v1.17.4,os:CentOS Linux 7 (Core)\n",
      "name:bigdata3,status:Ready,ip:192.168.0.67,version:v1.17.4,os:CentOS Linux 7 (Core)\n",
      "name:bigdata4,status:Ready,ip:192.168.0.95,version:v1.17.4,os:CentOS Linux 7 (Core)\n"
     ]
    }
   ],
   "source": [
    "# 列出所有nodes\n",
    "for node in core_v1.list_node().items:\n",
    "    name = node.metadata.name\n",
    "    status = node.status.conditions[-1].type if node.status.conditions[-1].status == \"True\" else \"NotReady\"\n",
    "    ip = node.status.addresses[0].address\n",
    "    version = node.status.node_info.kubelet_version\n",
    "    os = node.status.node_info.os_image\n",
    "    print(\"name:{},status:{},ip:{},version:{},os:{}\".format(name, status, ip,version,os))"
   ],
   "metadata": {
    "collapsed": false,
    "pycharm": {
     "name": "#%%\n"
    }
   }
  },
  {
   "cell_type": "code",
   "execution_count": 5,
   "outputs": [
    {
     "name": "stdout",
     "output_type": "stream",
     "text": [
      "kubernetes\n",
      "10.96.0.1\n",
      "default\n",
      "[{'app_protocol': None,\n",
      " 'name': 'https',\n",
      " 'node_port': None,\n",
      " 'port': 443,\n",
      " 'protocol': 'TCP',\n",
      " 'target_port': 6443}]\n",
      "ClusterIP\n",
      "None\n",
      "nginx-deploy\n",
      "10.108.228.121\n",
      "default\n",
      "[{'app_protocol': None,\n",
      " 'name': 'kx8cc6',\n",
      " 'node_port': None,\n",
      " 'port': 80,\n",
      " 'protocol': 'TCP',\n",
      " 'target_port': 80}]\n",
      "ClusterIP\n",
      "{'k8s.kuboard.cn/name': 'nginx-deploy'}\n",
      "kube-dns\n",
      "10.96.0.10\n",
      "kube-system\n",
      "[{'app_protocol': None,\n",
      " 'name': 'dns',\n",
      " 'node_port': None,\n",
      " 'port': 53,\n",
      " 'protocol': 'UDP',\n",
      " 'target_port': 53}, {'app_protocol': None,\n",
      " 'name': 'dns-tcp',\n",
      " 'node_port': None,\n",
      " 'port': 53,\n",
      " 'protocol': 'TCP',\n",
      " 'target_port': 53}, {'app_protocol': None,\n",
      " 'name': 'metrics',\n",
      " 'node_port': None,\n",
      " 'port': 9153,\n",
      " 'protocol': 'TCP',\n",
      " 'target_port': 9153}]\n",
      "ClusterIP\n",
      "{'k8s-app': 'kube-dns'}\n",
      "kubelet\n",
      "None\n",
      "kube-system\n",
      "[{'app_protocol': None,\n",
      " 'name': 'https-metrics',\n",
      " 'node_port': None,\n",
      " 'port': 10250,\n",
      " 'protocol': 'TCP',\n",
      " 'target_port': 10250}, {'app_protocol': None,\n",
      " 'name': 'http-metrics',\n",
      " 'node_port': None,\n",
      " 'port': 10255,\n",
      " 'protocol': 'TCP',\n",
      " 'target_port': 10255}, {'app_protocol': None,\n",
      " 'name': 'cadvisor',\n",
      " 'node_port': None,\n",
      " 'port': 4194,\n",
      " 'protocol': 'TCP',\n",
      " 'target_port': 4194}]\n",
      "ClusterIP\n",
      "None\n",
      "metrics-server\n",
      "10.108.254.91\n",
      "kube-system\n",
      "[{'app_protocol': None,\n",
      " 'name': 'https',\n",
      " 'node_port': None,\n",
      " 'port': 443,\n",
      " 'protocol': 'TCP',\n",
      " 'target_port': 443}]\n",
      "ClusterIP\n",
      "{'k8s-app': 'metrics-server'}\n"
     ]
    }
   ],
   "source": [
    "# 列出所有service，对应命令：kubectl get service --all-namespaces -o wide\n",
    "for service in core_v1.list_service_for_all_namespaces().items:\n",
    "    print(service.metadata.name)\n",
    "    print(service.spec.cluster_ip)\n",
    "    print(service.metadata.namespace)\n",
    "    print(service.spec.ports)\n",
    "    print(service.spec.type)\n",
    "    print(service.spec.selector)"
   ],
   "metadata": {
    "collapsed": false,
    "pycharm": {
     "name": "#%%\n"
    }
   }
  },
  {
   "cell_type": "code",
   "execution_count": 6,
   "outputs": [
    {
     "name": "stdout",
     "output_type": "stream",
     "text": [
      "{'api_version': None,\n",
      " 'kind': None,\n",
      " 'metadata': {'annotations': None,\n",
      "              'creation_timestamp': datetime.datetime(2023, 4, 11, 3, 9, 13, tzinfo=tzutc()),\n",
      "              'deletion_grace_period_seconds': None,\n",
      "              'deletion_timestamp': None,\n",
      "              'finalizers': None,\n",
      "              'generate_name': None,\n",
      "              'generation': None,\n",
      "              'labels': {'component': 'apiserver', 'provider': 'kubernetes'},\n",
      "              'managed_fields': None,\n",
      "              'name': 'kubernetes',\n",
      "              'namespace': 'default',\n",
      "              'owner_references': None,\n",
      "              'resource_version': '148',\n",
      "              'self_link': '/api/v1/namespaces/default/services/kubernetes',\n",
      "              'uid': '3c631073-584a-4f8a-b24c-7e98b54c0b5a'},\n",
      " 'spec': {'allocate_load_balancer_node_ports': None,\n",
      "          'cluster_i_ps': None,\n",
      "          'cluster_ip': '10.96.0.1',\n",
      "          'external_i_ps': None,\n",
      "          'external_name': None,\n",
      "          'external_traffic_policy': None,\n",
      "          'health_check_node_port': None,\n",
      "          'internal_traffic_policy': None,\n",
      "          'ip_families': None,\n",
      "          'ip_family_policy': None,\n",
      "          'load_balancer_class': None,\n",
      "          'load_balancer_ip': None,\n",
      "          'load_balancer_source_ranges': None,\n",
      "          'ports': [{'app_protocol': None,\n",
      "                     'name': 'https',\n",
      "                     'node_port': None,\n",
      "                     'port': 443,\n",
      "                     'protocol': 'TCP',\n",
      "                     'target_port': 6443}],\n",
      "          'publish_not_ready_addresses': None,\n",
      "          'selector': None,\n",
      "          'session_affinity': 'None',\n",
      "          'session_affinity_config': None,\n",
      "          'type': 'ClusterIP'},\n",
      " 'status': {'conditions': None, 'load_balancer': {'ingress': None}}}\n",
      "{'api_version': None,\n",
      " 'kind': None,\n",
      " 'metadata': {'annotations': None,\n",
      "              'creation_timestamp': datetime.datetime(2023, 6, 6, 2, 7, 16, tzinfo=tzutc()),\n",
      "              'deletion_grace_period_seconds': None,\n",
      "              'deletion_timestamp': None,\n",
      "              'finalizers': None,\n",
      "              'generate_name': None,\n",
      "              'generation': None,\n",
      "              'labels': {'k8s.kuboard.cn/name': 'nginx-deploy'},\n",
      "              'managed_fields': None,\n",
      "              'name': 'nginx-deploy',\n",
      "              'namespace': 'default',\n",
      "              'owner_references': None,\n",
      "              'resource_version': '7033720',\n",
      "              'self_link': '/api/v1/namespaces/default/services/nginx-deploy',\n",
      "              'uid': '8ec78009-0e5b-40b9-a706-47e505e5438a'},\n",
      " 'spec': {'allocate_load_balancer_node_ports': None,\n",
      "          'cluster_i_ps': None,\n",
      "          'cluster_ip': '10.108.228.121',\n",
      "          'external_i_ps': None,\n",
      "          'external_name': None,\n",
      "          'external_traffic_policy': None,\n",
      "          'health_check_node_port': None,\n",
      "          'internal_traffic_policy': None,\n",
      "          'ip_families': None,\n",
      "          'ip_family_policy': None,\n",
      "          'load_balancer_class': None,\n",
      "          'load_balancer_ip': None,\n",
      "          'load_balancer_source_ranges': None,\n",
      "          'ports': [{'app_protocol': None,\n",
      "                     'name': 'kx8cc6',\n",
      "                     'node_port': None,\n",
      "                     'port': 80,\n",
      "                     'protocol': 'TCP',\n",
      "                     'target_port': 80}],\n",
      "          'publish_not_ready_addresses': None,\n",
      "          'selector': {'k8s.kuboard.cn/name': 'nginx-deploy'},\n",
      "          'session_affinity': 'None',\n",
      "          'session_affinity_config': None,\n",
      "          'type': 'ClusterIP'},\n",
      " 'status': {'conditions': None, 'load_balancer': {'ingress': None}}}\n"
     ]
    }
   ],
   "source": [
    "# 列出指定命名空间的service\n",
    "for service in core_v1.list_namespaced_service(\"default\").items:\n",
    "    print(service)"
   ],
   "metadata": {
    "collapsed": false,
    "pycharm": {
     "name": "#%%\n"
    }
   }
  },
  {
   "cell_type": "code",
   "execution_count": 7,
   "outputs": [
    {
     "data": {
      "text/plain": "{'api_version': 'v1',\n 'kind': 'Service',\n 'metadata': {'annotations': None,\n              'creation_timestamp': datetime.datetime(2023, 6, 6, 2, 7, 16, tzinfo=tzutc()),\n              'deletion_grace_period_seconds': None,\n              'deletion_timestamp': None,\n              'finalizers': None,\n              'generate_name': None,\n              'generation': None,\n              'labels': {'k8s.kuboard.cn/name': 'nginx-deploy'},\n              'managed_fields': None,\n              'name': 'nginx-deploy',\n              'namespace': 'default',\n              'owner_references': None,\n              'resource_version': '7033720',\n              'self_link': '/api/v1/namespaces/default/services/nginx-deploy',\n              'uid': '8ec78009-0e5b-40b9-a706-47e505e5438a'},\n 'spec': {'allocate_load_balancer_node_ports': None,\n          'cluster_i_ps': None,\n          'cluster_ip': '10.108.228.121',\n          'external_i_ps': None,\n          'external_name': None,\n          'external_traffic_policy': None,\n          'health_check_node_port': None,\n          'internal_traffic_policy': None,\n          'ip_families': None,\n          'ip_family_policy': None,\n          'load_balancer_class': None,\n          'load_balancer_ip': None,\n          'load_balancer_source_ranges': None,\n          'ports': [{'app_protocol': None,\n                     'name': 'kx8cc6',\n                     'node_port': None,\n                     'port': 80,\n                     'protocol': 'TCP',\n                     'target_port': 80}],\n          'publish_not_ready_addresses': None,\n          'selector': {'k8s.kuboard.cn/name': 'nginx-deploy'},\n          'session_affinity': 'None',\n          'session_affinity_config': None,\n          'type': 'ClusterIP'},\n 'status': {'conditions': None, 'load_balancer': {'ingress': None}}}"
     },
     "execution_count": 7,
     "metadata": {},
     "output_type": "execute_result"
    }
   ],
   "source": [
    "# 获取指定service信息\n",
    "service = core_v1.read_namespaced_service(name=\"nginx-deploy\", namespace=\"default\")\n",
    "service"
   ],
   "metadata": {
    "collapsed": false,
    "pycharm": {
     "name": "#%%\n"
    }
   }
  },
  {
   "cell_type": "code",
   "execution_count": 9,
   "outputs": [
    {
     "name": "stdout",
     "output_type": "stream",
     "text": [
      "{'api_version': 'v1',\n",
      " 'items': [{'api_version': None,\n",
      "            'kind': None,\n",
      "            'metadata': {'annotations': {'endpoints.kubernetes.io/last-change-trigger-time': '2023-06-06T02:07:16Z'},\n",
      "                         'creation_timestamp': datetime.datetime(2023, 6, 6, 2, 7, 16, tzinfo=tzutc()),\n",
      "                         'deletion_grace_period_seconds': None,\n",
      "                         'deletion_timestamp': None,\n",
      "                         'finalizers': None,\n",
      "                         'generate_name': None,\n",
      "                         'generation': None,\n",
      "                         'labels': {'k8s.kuboard.cn/name': 'nginx-deploy'},\n",
      "                         'managed_fields': None,\n",
      "                         'name': 'nginx-deploy',\n",
      "                         'namespace': 'default',\n",
      "                         'owner_references': None,\n",
      "                         'resource_version': '7033721',\n",
      "                         'self_link': '/api/v1/namespaces/default/endpoints/nginx-deploy',\n",
      "                         'uid': '1e3684a6-93e8-4f9c-8610-bfff09d10282'},\n",
      "            'subsets': [{'addresses': [{'hostname': None,\n",
      "                                        'ip': '10.244.103.85',\n",
      "                                        'node_name': 'bigdata3',\n",
      "                                        'target_ref': {'api_version': None,\n",
      "                                                       'field_path': None,\n",
      "                                                       'kind': 'Pod',\n",
      "                                                       'name': 'nginx-deploy-7669d4b87b-ft8cz',\n",
      "                                                       'namespace': 'default',\n",
      "                                                       'resource_version': '6873164',\n",
      "                                                       'uid': 'f0ecdf9c-ae7f-4a00-9e17-fa3645be435a'}},\n",
      "                                       {'hostname': None,\n",
      "                                        'ip': '10.244.34.150',\n",
      "                                        'node_name': 'bigdata2',\n",
      "                                        'target_ref': {'api_version': None,\n",
      "                                                       'field_path': None,\n",
      "                                                       'kind': 'Pod',\n",
      "                                                       'name': 'nginx-deploy-7669d4b87b-z5zl6',\n",
      "                                                       'namespace': 'default',\n",
      "                                                       'resource_version': '6873190',\n",
      "                                                       'uid': '1221afc0-f267-49a3-91bf-17c0a53ef0eb'}}],\n",
      "                         'not_ready_addresses': None,\n",
      "                         'ports': [{'app_protocol': None,\n",
      "                                    'name': 'kx8cc6',\n",
      "                                    'port': 80,\n",
      "                                    'protocol': 'TCP'}]}]}],\n",
      " 'kind': 'EndpointsList',\n",
      " 'metadata': {'_continue': None,\n",
      "              'remaining_item_count': None,\n",
      "              'resource_version': '7046973',\n",
      "              'self_link': '/api/v1/namespaces/default/endpoints'}}\n",
      "IP:  10.244.103.85\n",
      "Port:  80\n"
     ]
    }
   ],
   "source": [
    "# 列出service绑定的pods信息\n",
    "endpoints = core_v1.list_namespaced_endpoints(namespace=\"default\", field_selector=\"metadata.name=nginx-deploy\")\n",
    "print(endpoints)\n",
    "for ep in endpoints.items:\n",
    "    print(\"IP: \", ep.subsets[0].addresses[0].ip)\n",
    "    print(\"Port: \", ep.subsets[0].ports[0].port)"
   ],
   "metadata": {
    "collapsed": false,
    "pycharm": {
     "name": "#%%\n"
    }
   }
  },
  {
   "cell_type": "code",
   "execution_count": 15,
   "outputs": [
    {
     "name": "stdout",
     "output_type": "stream",
     "text": [
      "name:nginx-deploy-7669d4b87b-ft8cz,ip:10.244.103.85,ns:default\n",
      "name:nginx-deploy-7669d4b87b-z5zl6,ip:10.244.34.150,ns:default\n"
     ]
    }
   ],
   "source": [
    "# 列出指定ns的pod\n",
    "for pod in core_v1.list_namespaced_pod(\"default\").items:\n",
    "    print(\"name:{},ip:{},ns:{}\".format(pod.metadata.name ,pod.status.pod_ip,pod.metadata.namespace))"
   ],
   "metadata": {
    "collapsed": false,
    "pycharm": {
     "name": "#%%\n"
    }
   }
  },
  {
   "cell_type": "code",
   "execution_count": 7,
   "outputs": [
    {
     "name": "stdout",
     "output_type": "stream",
     "text": [
      "name:nginx-deploy-7669d4b87b-ft8cz,ip:10.244.103.85,ns:default\n",
      "name:nginx-deploy-7669d4b87b-z5zl6,ip:10.244.34.150,ns:default\n",
      "name:calico-kube-controllers-6b94766748-f55lq,ip:10.244.191.220,ns:kube-system\n",
      "name:calico-node-5sdft,ip:192.168.0.95,ns:kube-system\n",
      "name:calico-node-cpq7b,ip:192.168.0.67,ns:kube-system\n",
      "name:calico-node-tfj95,ip:192.168.0.44,ns:kube-system\n",
      "name:calico-node-vqb2x,ip:192.168.0.18,ns:kube-system\n",
      "name:coredns-6955765f44-f28m2,ip:10.244.191.222,ns:kube-system\n",
      "name:coredns-6955765f44-wcfvm,ip:10.244.251.14,ns:kube-system\n",
      "name:etcd-bigdata1,ip:192.168.0.44,ns:kube-system\n",
      "name:kube-apiserver-bigdata1,ip:192.168.0.44,ns:kube-system\n",
      "name:kube-controller-manager-bigdata1,ip:192.168.0.44,ns:kube-system\n",
      "name:kube-proxy-29p4r,ip:192.168.0.44,ns:kube-system\n",
      "name:kube-proxy-sch6n,ip:192.168.0.18,ns:kube-system\n",
      "name:kube-proxy-w62dp,ip:192.168.0.67,ns:kube-system\n",
      "name:kube-proxy-x8469,ip:192.168.0.95,ns:kube-system\n",
      "name:kube-scheduler-bigdata1,ip:192.168.0.44,ns:kube-system\n",
      "name:metrics-server-5cf78b8dc6-g88pp,ip:10.244.34.149,ns:kube-system\n",
      "name:metrics-server-5cf78b8dc6-gmljh,ip:10.244.251.15,ns:kube-system\n",
      "name:kuboard-agent-1mbqj12-2-84db6c9f6c-75jsd,ip:10.244.251.18,ns:kuboard\n",
      "name:kuboard-agent-1mbqj12-8458d8cb9-r7mn9,ip:10.244.251.16,ns:kuboard\n",
      "name:kuboard-pv-browser-96gfb,ip:10.244.103.84,ns:kuboard\n",
      "name:kuboard-pv-browser-bd282,ip:10.244.251.17,ns:kuboard\n",
      "name:kuboard-pv-browser-fb6ml,ip:10.244.191.221,ns:kuboard\n",
      "name:kuboard-pv-browser-t94nh,ip:10.244.34.148,ns:kuboard\n"
     ]
    }
   ],
   "source": [
    "# 列出所有ns的pod\n",
    "for pod in core_v1.list_pod_for_all_namespaces().items:\n",
    "    print(\"name:{},ip:{},ns:{}\".format(pod.metadata.name ,pod.status.pod_ip,pod.metadata.namespace))"
   ],
   "metadata": {
    "collapsed": false,
    "pycharm": {
     "name": "#%%\n"
    }
   }
  },
  {
   "cell_type": "code",
   "execution_count": 8,
   "outputs": [],
   "source": [
    "# 查看crd资源\n",
    "for cr in custom_api.list_namespaced_custom_object(group=\"stable.example.com\",version=\"v1\",namespace=\"default\",plural=\"crontabs\")[\"items\"]:\n",
    "    print(cr)"
   ],
   "metadata": {
    "collapsed": false,
    "pycharm": {
     "name": "#%%\n"
    }
   }
  }
 ],
 "metadata": {
  "kernelspec": {
   "display_name": "Python 3",
   "language": "python",
   "name": "python3"
  },
  "language_info": {
   "codemirror_mode": {
    "name": "ipython",
    "version": 2
   },
   "file_extension": ".py",
   "mimetype": "text/x-python",
   "name": "python",
   "nbconvert_exporter": "python",
   "pygments_lexer": "ipython2",
   "version": "2.7.6"
  }
 },
 "nbformat": 4,
 "nbformat_minor": 0
}