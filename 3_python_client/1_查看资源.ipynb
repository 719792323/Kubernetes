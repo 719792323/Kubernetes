{
 "cells": [
  {
   "cell_type": "code",
   "execution_count": 1,
   "outputs": [],
   "source": [
    "# https://www.cnblogs.com/machangwei-8/p/15925358.html\n",
    "from kubernetes import client, config\n",
    "\n",
    "# 加载认证文件\n",
    "# config.kube_config.load_kube_config(\"minikube_config.yml\")\n",
    "config.kube_config.load_kube_config(\"config.yml\")"
   ],
   "metadata": {
    "collapsed": false,
    "pycharm": {
     "name": "#%%\n"
    }
   }
  },
  {
   "cell_type": "code",
   "execution_count": 2,
   "outputs": [],
   "source": [
    "#获取CoreV1Api和BatchV1Api版本对象\n",
    "core_v1 = client.CoreV1Api()  #用于操作核心v1 API组中的资源，如Pod、Service、Node、Namespace等\n",
    "batch_v1 = client.BatchV1Api()  #用于操作Job等资源\n",
    "apps_v1 = client.AppsV1Api()  #用于操作Deployment、DaemonSet、ReplicaSet和StatefulSet\n",
    "custom_api = client.CustomObjectsApi()  #用于操作CRD"
   ],
   "metadata": {
    "collapsed": false,
    "pycharm": {
     "name": "#%%\n"
    }
   }
  },
  {
   "cell_type": "code",
   "execution_count": 3,
   "outputs": [
    {
     "name": "stdout",
     "output_type": "stream",
     "text": [
      "default\n",
      "kube-node-lease\n",
      "kube-public\n",
      "kube-system\n",
      "kuboard\n"
     ]
    }
   ],
   "source": [
    "# 列出命名空间\n",
    "for ns in core_v1.list_namespace().items:\n",
    "    print(ns.metadata.name)"
   ],
   "metadata": {
    "collapsed": false,
    "pycharm": {
     "name": "#%%\n"
    }
   }
  },
  {
   "cell_type": "code",
   "execution_count": 4,
   "outputs": [
    {
     "name": "stdout",
     "output_type": "stream",
     "text": [
      "name:node1,status:Ready,ip:192.168.157.128,version:v1.17.4,os:CentOS Linux 7 (Core)\n",
      "name:node2,status:Ready,ip:192.168.157.129,version:v1.17.4,os:CentOS Linux 7 (Core)\n",
      "name:node3,status:Ready,ip:192.168.157.130,version:v1.17.4,os:CentOS Linux 7 (Core)\n"
     ]
    }
   ],
   "source": [
    "# 列出所有nodes\n",
    "for node in core_v1.list_node().items:\n",
    "    name = node.metadata.name\n",
    "    status = node.status.conditions[-1].type if node.status.conditions[-1].status == \"True\" else \"NotReady\"\n",
    "    ip = node.status.addresses[0].address\n",
    "    version = node.status.node_info.kubelet_version\n",
    "    os = node.status.node_info.os_image\n",
    "    print(\"name:{},status:{},ip:{},version:{},os:{}\".format(name, status, ip, version, os))"
   ],
   "metadata": {
    "collapsed": false,
    "pycharm": {
     "name": "#%%\n"
    }
   }
  },
  {
   "cell_type": "code",
   "execution_count": 8,
   "outputs": [
    {
     "name": "stdout",
     "output_type": "stream",
     "text": [
      "kubernetes\n",
      "10.96.0.1\n",
      "default\n",
      "[{'app_protocol': None,\n",
      " 'name': 'https',\n",
      " 'node_port': None,\n",
      " 'port': 443,\n",
      " 'protocol': 'TCP',\n",
      " 'target_port': 6443}]\n",
      "ClusterIP\n",
      "None\n",
      "luck-instance-v1-svc-core\n",
      "10.107.4.141\n",
      "default\n",
      "[{'app_protocol': None,\n",
      " 'name': None,\n",
      " 'node_port': None,\n",
      " 'port': 80,\n",
      " 'protocol': 'TCP',\n",
      " 'target_port': 80}]\n",
      "ClusterIP\n",
      "{'crd-instance': 'luck-instance-v1', 'type': 'core'}\n",
      "luck-instance-v1-svc-uncore\n",
      "10.99.182.134\n",
      "default\n",
      "[{'app_protocol': None,\n",
      " 'name': None,\n",
      " 'node_port': None,\n",
      " 'port': 80,\n",
      " 'protocol': 'TCP',\n",
      " 'target_port': 80}]\n",
      "ClusterIP\n",
      "{'crd-instance': 'luck-instance-v1', 'type': 'uncore'}\n",
      "nginx-deploy\n",
      "10.108.228.121\n",
      "default\n",
      "[{'app_protocol': None,\n",
      " 'name': 'kx8cc6',\n",
      " 'node_port': None,\n",
      " 'port': 80,\n",
      " 'protocol': 'TCP',\n",
      " 'target_port': 80}]\n",
      "ClusterIP\n",
      "{'k8s.kuboard.cn/name': 'nginx-deploy'}\n",
      "kube-dns\n",
      "10.96.0.10\n",
      "kube-system\n",
      "[{'app_protocol': None,\n",
      " 'name': 'dns',\n",
      " 'node_port': None,\n",
      " 'port': 53,\n",
      " 'protocol': 'UDP',\n",
      " 'target_port': 53}, {'app_protocol': None,\n",
      " 'name': 'dns-tcp',\n",
      " 'node_port': None,\n",
      " 'port': 53,\n",
      " 'protocol': 'TCP',\n",
      " 'target_port': 53}, {'app_protocol': None,\n",
      " 'name': 'metrics',\n",
      " 'node_port': None,\n",
      " 'port': 9153,\n",
      " 'protocol': 'TCP',\n",
      " 'target_port': 9153}]\n",
      "ClusterIP\n",
      "{'k8s-app': 'kube-dns'}\n",
      "kubelet\n",
      "None\n",
      "kube-system\n",
      "[{'app_protocol': None,\n",
      " 'name': 'https-metrics',\n",
      " 'node_port': None,\n",
      " 'port': 10250,\n",
      " 'protocol': 'TCP',\n",
      " 'target_port': 10250}, {'app_protocol': None,\n",
      " 'name': 'http-metrics',\n",
      " 'node_port': None,\n",
      " 'port': 10255,\n",
      " 'protocol': 'TCP',\n",
      " 'target_port': 10255}, {'app_protocol': None,\n",
      " 'name': 'cadvisor',\n",
      " 'node_port': None,\n",
      " 'port': 4194,\n",
      " 'protocol': 'TCP',\n",
      " 'target_port': 4194}]\n",
      "ClusterIP\n",
      "None\n",
      "metrics-server\n",
      "10.108.254.91\n",
      "kube-system\n",
      "[{'app_protocol': None,\n",
      " 'name': 'https',\n",
      " 'node_port': None,\n",
      " 'port': 443,\n",
      " 'protocol': 'TCP',\n",
      " 'target_port': 443}]\n",
      "ClusterIP\n",
      "{'k8s-app': 'metrics-server'}\n",
      "prometheus\n",
      "10.107.90.91\n",
      "kube-system\n",
      "[{'app_protocol': None,\n",
      " 'name': 'sgn46d',\n",
      " 'node_port': 30633,\n",
      " 'port': 9090,\n",
      " 'protocol': 'TCP',\n",
      " 'target_port': 9090}]\n",
      "NodePort\n",
      "{'app': 'prometheus'}\n",
      "prometheus\n",
      "10.105.38.93\n",
      "sj\n",
      "[{'app_protocol': None,\n",
      " 'name': '8ktd44',\n",
      " 'node_port': 31865,\n",
      " 'port': 9090,\n",
      " 'protocol': 'TCP',\n",
      " 'target_port': 9090}]\n",
      "NodePort\n",
      "{'app': 'prometheus'}\n"
     ]
    }
   ],
   "source": [
    "# 列出所有service，对应命令：kubectl get service --all-namespaces -o wide\n",
    "for service in core_v1.list_service_for_all_namespaces().items:\n",
    "    print(service.metadata.name)\n",
    "    print(service.spec.cluster_ip)\n",
    "    print(service.metadata.namespace)\n",
    "    print(service.spec.ports)\n",
    "    print(service.spec.type)\n",
    "    print(service.spec.selector)"
   ],
   "metadata": {
    "collapsed": false,
    "pycharm": {
     "name": "#%%\n"
    }
   }
  },
  {
   "cell_type": "code",
   "execution_count": 6,
   "outputs": [
    {
     "name": "stdout",
     "output_type": "stream",
     "text": [
      "{'api_version': None,\n",
      " 'kind': None,\n",
      " 'metadata': {'annotations': None,\n",
      "              'creation_timestamp': datetime.datetime(2023, 4, 11, 3, 9, 13, tzinfo=tzutc()),\n",
      "              'deletion_grace_period_seconds': None,\n",
      "              'deletion_timestamp': None,\n",
      "              'finalizers': None,\n",
      "              'generate_name': None,\n",
      "              'generation': None,\n",
      "              'labels': {'component': 'apiserver', 'provider': 'kubernetes'},\n",
      "              'managed_fields': None,\n",
      "              'name': 'kubernetes',\n",
      "              'namespace': 'default',\n",
      "              'owner_references': None,\n",
      "              'resource_version': '148',\n",
      "              'self_link': '/api/v1/namespaces/default/services/kubernetes',\n",
      "              'uid': '3c631073-584a-4f8a-b24c-7e98b54c0b5a'},\n",
      " 'spec': {'allocate_load_balancer_node_ports': None,\n",
      "          'cluster_i_ps': None,\n",
      "          'cluster_ip': '10.96.0.1',\n",
      "          'external_i_ps': None,\n",
      "          'external_name': None,\n",
      "          'external_traffic_policy': None,\n",
      "          'health_check_node_port': None,\n",
      "          'internal_traffic_policy': None,\n",
      "          'ip_families': None,\n",
      "          'ip_family_policy': None,\n",
      "          'load_balancer_class': None,\n",
      "          'load_balancer_ip': None,\n",
      "          'load_balancer_source_ranges': None,\n",
      "          'ports': [{'app_protocol': None,\n",
      "                     'name': 'https',\n",
      "                     'node_port': None,\n",
      "                     'port': 443,\n",
      "                     'protocol': 'TCP',\n",
      "                     'target_port': 6443}],\n",
      "          'publish_not_ready_addresses': None,\n",
      "          'selector': None,\n",
      "          'session_affinity': 'None',\n",
      "          'session_affinity_config': None,\n",
      "          'type': 'ClusterIP'},\n",
      " 'status': {'conditions': None, 'load_balancer': {'ingress': None}}}\n",
      "{'api_version': None,\n",
      " 'kind': None,\n",
      " 'metadata': {'annotations': None,\n",
      "              'creation_timestamp': datetime.datetime(2023, 6, 6, 2, 7, 16, tzinfo=tzutc()),\n",
      "              'deletion_grace_period_seconds': None,\n",
      "              'deletion_timestamp': None,\n",
      "              'finalizers': None,\n",
      "              'generate_name': None,\n",
      "              'generation': None,\n",
      "              'labels': {'k8s.kuboard.cn/name': 'nginx-deploy'},\n",
      "              'managed_fields': None,\n",
      "              'name': 'nginx-deploy',\n",
      "              'namespace': 'default',\n",
      "              'owner_references': None,\n",
      "              'resource_version': '7033720',\n",
      "              'self_link': '/api/v1/namespaces/default/services/nginx-deploy',\n",
      "              'uid': '8ec78009-0e5b-40b9-a706-47e505e5438a'},\n",
      " 'spec': {'allocate_load_balancer_node_ports': None,\n",
      "          'cluster_i_ps': None,\n",
      "          'cluster_ip': '10.108.228.121',\n",
      "          'external_i_ps': None,\n",
      "          'external_name': None,\n",
      "          'external_traffic_policy': None,\n",
      "          'health_check_node_port': None,\n",
      "          'internal_traffic_policy': None,\n",
      "          'ip_families': None,\n",
      "          'ip_family_policy': None,\n",
      "          'load_balancer_class': None,\n",
      "          'load_balancer_ip': None,\n",
      "          'load_balancer_source_ranges': None,\n",
      "          'ports': [{'app_protocol': None,\n",
      "                     'name': 'kx8cc6',\n",
      "                     'node_port': None,\n",
      "                     'port': 80,\n",
      "                     'protocol': 'TCP',\n",
      "                     'target_port': 80}],\n",
      "          'publish_not_ready_addresses': None,\n",
      "          'selector': {'k8s.kuboard.cn/name': 'nginx-deploy'},\n",
      "          'session_affinity': 'None',\n",
      "          'session_affinity_config': None,\n",
      "          'type': 'ClusterIP'},\n",
      " 'status': {'conditions': None, 'load_balancer': {'ingress': None}}}\n"
     ]
    }
   ],
   "source": [
    "# 列出指定命名空间的service\n",
    "for service in core_v1.list_namespaced_service(\"default\").items:\n",
    "    print(service)"
   ],
   "metadata": {
    "collapsed": false,
    "pycharm": {
     "name": "#%%\n"
    }
   }
  },
  {
   "cell_type": "code",
   "execution_count": 7,
   "outputs": [
    {
     "data": {
      "text/plain": "{'api_version': 'v1',\n 'kind': 'Service',\n 'metadata': {'annotations': None,\n              'creation_timestamp': datetime.datetime(2023, 6, 6, 2, 7, 16, tzinfo=tzutc()),\n              'deletion_grace_period_seconds': None,\n              'deletion_timestamp': None,\n              'finalizers': None,\n              'generate_name': None,\n              'generation': None,\n              'labels': {'k8s.kuboard.cn/name': 'nginx-deploy'},\n              'managed_fields': None,\n              'name': 'nginx-deploy',\n              'namespace': 'default',\n              'owner_references': None,\n              'resource_version': '7033720',\n              'self_link': '/api/v1/namespaces/default/services/nginx-deploy',\n              'uid': '8ec78009-0e5b-40b9-a706-47e505e5438a'},\n 'spec': {'allocate_load_balancer_node_ports': None,\n          'cluster_i_ps': None,\n          'cluster_ip': '10.108.228.121',\n          'external_i_ps': None,\n          'external_name': None,\n          'external_traffic_policy': None,\n          'health_check_node_port': None,\n          'internal_traffic_policy': None,\n          'ip_families': None,\n          'ip_family_policy': None,\n          'load_balancer_class': None,\n          'load_balancer_ip': None,\n          'load_balancer_source_ranges': None,\n          'ports': [{'app_protocol': None,\n                     'name': 'kx8cc6',\n                     'node_port': None,\n                     'port': 80,\n                     'protocol': 'TCP',\n                     'target_port': 80}],\n          'publish_not_ready_addresses': None,\n          'selector': {'k8s.kuboard.cn/name': 'nginx-deploy'},\n          'session_affinity': 'None',\n          'session_affinity_config': None,\n          'type': 'ClusterIP'},\n 'status': {'conditions': None, 'load_balancer': {'ingress': None}}}"
     },
     "execution_count": 7,
     "metadata": {},
     "output_type": "execute_result"
    }
   ],
   "source": [
    "# 获取指定service信息\n",
    "service = core_v1.read_namespaced_service(name=\"nginx-deploy\", namespace=\"default\")\n",
    "service"
   ],
   "metadata": {
    "collapsed": false,
    "pycharm": {
     "name": "#%%\n"
    }
   }
  },
  {
   "cell_type": "code",
   "execution_count": 9,
   "outputs": [
    {
     "name": "stdout",
     "output_type": "stream",
     "text": [
      "{'api_version': 'v1',\n",
      " 'items': [{'api_version': None,\n",
      "            'kind': None,\n",
      "            'metadata': {'annotations': {'endpoints.kubernetes.io/last-change-trigger-time': '2023-06-06T02:07:16Z'},\n",
      "                         'creation_timestamp': datetime.datetime(2023, 6, 6, 2, 7, 16, tzinfo=tzutc()),\n",
      "                         'deletion_grace_period_seconds': None,\n",
      "                         'deletion_timestamp': None,\n",
      "                         'finalizers': None,\n",
      "                         'generate_name': None,\n",
      "                         'generation': None,\n",
      "                         'labels': {'k8s.kuboard.cn/name': 'nginx-deploy'},\n",
      "                         'managed_fields': None,\n",
      "                         'name': 'nginx-deploy',\n",
      "                         'namespace': 'default',\n",
      "                         'owner_references': None,\n",
      "                         'resource_version': '7033721',\n",
      "                         'self_link': '/api/v1/namespaces/default/endpoints/nginx-deploy',\n",
      "                         'uid': '1e3684a6-93e8-4f9c-8610-bfff09d10282'},\n",
      "            'subsets': [{'addresses': [{'hostname': None,\n",
      "                                        'ip': '10.244.103.85',\n",
      "                                        'node_name': 'bigdata3',\n",
      "                                        'target_ref': {'api_version': None,\n",
      "                                                       'field_path': None,\n",
      "                                                       'kind': 'Pod',\n",
      "                                                       'name': 'nginx-deploy-7669d4b87b-ft8cz',\n",
      "                                                       'namespace': 'default',\n",
      "                                                       'resource_version': '6873164',\n",
      "                                                       'uid': 'f0ecdf9c-ae7f-4a00-9e17-fa3645be435a'}},\n",
      "                                       {'hostname': None,\n",
      "                                        'ip': '10.244.34.150',\n",
      "                                        'node_name': 'bigdata2',\n",
      "                                        'target_ref': {'api_version': None,\n",
      "                                                       'field_path': None,\n",
      "                                                       'kind': 'Pod',\n",
      "                                                       'name': 'nginx-deploy-7669d4b87b-z5zl6',\n",
      "                                                       'namespace': 'default',\n",
      "                                                       'resource_version': '6873190',\n",
      "                                                       'uid': '1221afc0-f267-49a3-91bf-17c0a53ef0eb'}}],\n",
      "                         'not_ready_addresses': None,\n",
      "                         'ports': [{'app_protocol': None,\n",
      "                                    'name': 'kx8cc6',\n",
      "                                    'port': 80,\n",
      "                                    'protocol': 'TCP'}]}]}],\n",
      " 'kind': 'EndpointsList',\n",
      " 'metadata': {'_continue': None,\n",
      "              'remaining_item_count': None,\n",
      "              'resource_version': '7046973',\n",
      "              'self_link': '/api/v1/namespaces/default/endpoints'}}\n",
      "IP:  10.244.103.85\n",
      "Port:  80\n"
     ]
    }
   ],
   "source": [
    "# 列出service绑定的pods信息\n",
    "endpoints = core_v1.list_namespaced_endpoints(namespace=\"default\", field_selector=\"metadata.name=nginx-deploy\")\n",
    "print(endpoints)\n",
    "for ep in endpoints.items:\n",
    "    print(\"IP: \", ep.subsets[0].addresses[0].ip)\n",
    "    print(\"Port: \", ep.subsets[0].ports[0].port)"
   ],
   "metadata": {
    "collapsed": false,
    "pycharm": {
     "name": "#%%\n"
    }
   }
  },
  {
   "cell_type": "code",
   "execution_count": 15,
   "outputs": [
    {
     "name": "stdout",
     "output_type": "stream",
     "text": [
      "name:nginx-deploy-7669d4b87b-ft8cz,ip:10.244.103.85,ns:default\n",
      "name:nginx-deploy-7669d4b87b-z5zl6,ip:10.244.34.150,ns:default\n"
     ]
    }
   ],
   "source": [
    "# 列出指定ns的pod\n",
    "for pod in core_v1.list_namespaced_pod(\"default\").items:\n",
    "    print(\"name:{},ip:{},ns:{}\".format(pod.metadata.name, pod.status.pod_ip, pod.metadata.namespace))"
   ],
   "metadata": {
    "collapsed": false,
    "pycharm": {
     "name": "#%%\n"
    }
   }
  },
  {
   "cell_type": "code",
   "execution_count": 7,
   "outputs": [
    {
     "name": "stdout",
     "output_type": "stream",
     "text": [
      "name:nginx-deploy-7669d4b87b-ft8cz,ip:10.244.103.85,ns:default\n",
      "name:nginx-deploy-7669d4b87b-z5zl6,ip:10.244.34.150,ns:default\n",
      "name:calico-kube-controllers-6b94766748-f55lq,ip:10.244.191.220,ns:kube-system\n",
      "name:calico-node-5sdft,ip:192.168.0.95,ns:kube-system\n",
      "name:calico-node-cpq7b,ip:192.168.0.67,ns:kube-system\n",
      "name:calico-node-tfj95,ip:192.168.0.44,ns:kube-system\n",
      "name:calico-node-vqb2x,ip:192.168.0.18,ns:kube-system\n",
      "name:coredns-6955765f44-f28m2,ip:10.244.191.222,ns:kube-system\n",
      "name:coredns-6955765f44-wcfvm,ip:10.244.251.14,ns:kube-system\n",
      "name:etcd-bigdata1,ip:192.168.0.44,ns:kube-system\n",
      "name:kube-apiserver-bigdata1,ip:192.168.0.44,ns:kube-system\n",
      "name:kube-controller-manager-bigdata1,ip:192.168.0.44,ns:kube-system\n",
      "name:kube-proxy-29p4r,ip:192.168.0.44,ns:kube-system\n",
      "name:kube-proxy-sch6n,ip:192.168.0.18,ns:kube-system\n",
      "name:kube-proxy-w62dp,ip:192.168.0.67,ns:kube-system\n",
      "name:kube-proxy-x8469,ip:192.168.0.95,ns:kube-system\n",
      "name:kube-scheduler-bigdata1,ip:192.168.0.44,ns:kube-system\n",
      "name:metrics-server-5cf78b8dc6-g88pp,ip:10.244.34.149,ns:kube-system\n",
      "name:metrics-server-5cf78b8dc6-gmljh,ip:10.244.251.15,ns:kube-system\n",
      "name:kuboard-agent-1mbqj12-2-84db6c9f6c-75jsd,ip:10.244.251.18,ns:kuboard\n",
      "name:kuboard-agent-1mbqj12-8458d8cb9-r7mn9,ip:10.244.251.16,ns:kuboard\n",
      "name:kuboard-pv-browser-96gfb,ip:10.244.103.84,ns:kuboard\n",
      "name:kuboard-pv-browser-bd282,ip:10.244.251.17,ns:kuboard\n",
      "name:kuboard-pv-browser-fb6ml,ip:10.244.191.221,ns:kuboard\n",
      "name:kuboard-pv-browser-t94nh,ip:10.244.34.148,ns:kuboard\n"
     ]
    }
   ],
   "source": [
    "# 列出所有ns的pod\n",
    "for pod in core_v1.list_pod_for_all_namespaces().items:\n",
    "    print(\"name:{},ip:{},ns:{}\".format(pod.metadata.name, pod.status.pod_ip, pod.metadata.namespace))"
   ],
   "metadata": {
    "collapsed": false,
    "pycharm": {
     "name": "#%%\n"
    }
   }
  },
  {
   "cell_type": "code",
   "execution_count": 8,
   "outputs": [],
   "source": [
    "# 查看crd资源\n",
    "for cr in custom_api.list_namespaced_custom_object(group=\"stable.example.com\", version=\"v1\", namespace=\"default\",\n",
    "                                                   plural=\"crontabs\")[\"items\"]:\n",
    "    print(cr)"
   ],
   "metadata": {
    "collapsed": false,
    "pycharm": {
     "name": "#%%\n"
    }
   }
  },
  {
   "cell_type": "code",
   "execution_count": 24,
   "outputs": [
    {
     "name": "stdout",
     "output_type": "stream",
     "text": [
      "Starting 2023-06-30 06:29:26+00:00 Node bigdata1\n",
      "NodeHasSufficientMemory 2023-06-30 06:29:27+00:00 Node bigdata1\n",
      "NodeHasNoDiskPressure 2023-06-30 06:29:27+00:00 Node bigdata1\n",
      "NodeHasSufficientPID 2023-06-30 06:29:27+00:00 Node bigdata1\n",
      "NodeAllocatableEnforced 2023-06-30 06:29:27+00:00 Node bigdata1\n",
      "Starting 2023-06-30 06:29:23+00:00 Node bigdata1\n",
      "RegisteredNode 2023-06-30 06:29:57+00:00 Node bigdata1\n",
      "RegisteredNode 2023-06-30 06:29:57+00:00 Node bigdata2\n",
      "Starting 2023-06-30 06:30:17+00:00 Node bigdata2\n",
      "NodeHasSufficientMemory 2023-06-30 06:30:17+00:00 Node bigdata2\n",
      "NodeHasNoDiskPressure 2023-06-30 06:30:17+00:00 Node bigdata2\n",
      "NodeHasSufficientPID 2023-06-30 06:30:17+00:00 Node bigdata2\n",
      "NodeAllocatableEnforced 2023-06-30 06:30:17+00:00 Node bigdata2\n",
      "Rebooted 2023-06-30 06:30:17+00:00 Node bigdata2\n",
      "Starting 2023-06-30 06:30:21+00:00 Node bigdata2\n",
      "RegisteredNode 2023-06-30 06:29:57+00:00 Node bigdata3\n",
      "Starting 2023-06-30 06:30:15+00:00 Node bigdata3\n",
      "NodeHasSufficientMemory 2023-06-30 06:30:15+00:00 Node bigdata3\n",
      "NodeHasNoDiskPressure 2023-06-30 06:30:15+00:00 Node bigdata3\n",
      "NodeHasSufficientPID 2023-06-30 06:30:15+00:00 Node bigdata3\n",
      "NodeAllocatableEnforced 2023-06-30 06:30:15+00:00 Node bigdata3\n",
      "Rebooted 2023-06-30 06:30:15+00:00 Node bigdata3\n",
      "Starting 2023-06-30 06:30:20+00:00 Node bigdata3\n",
      "Starting 2023-06-30 06:29:21+00:00 Node bigdata4\n",
      "NodeHasSufficientMemory 2023-06-30 06:29:21+00:00 Node bigdata4\n",
      "NodeHasNoDiskPressure 2023-06-30 06:29:21+00:00 Node bigdata4\n",
      "NodeHasSufficientPID 2023-06-30 06:29:21+00:00 Node bigdata4\n",
      "NodeAllocatableEnforced 2023-06-30 06:29:21+00:00 Node bigdata4\n",
      "Rebooted 2023-06-30 06:29:25+00:00 Node bigdata4\n",
      "Starting 2023-06-30 06:29:23+00:00 Node bigdata4\n",
      "RegisteredNode 2023-06-30 06:29:57+00:00 Node bigdata4\n",
      "SandboxChanged 2023-06-30 06:29:24+00:00 Pod luck-instance-v1-core-node1\n",
      "Pulled 2023-06-30 06:29:37+00:00 Pod luck-instance-v1-core-node1\n",
      "Created 2023-06-30 06:29:37+00:00 Pod luck-instance-v1-core-node1\n",
      "Started 2023-06-30 06:29:38+00:00 Pod luck-instance-v1-core-node1\n",
      "SandboxChanged 2023-06-30 06:30:16+00:00 Pod luck-instance-v1-core-node2\n",
      "Pulled 2023-06-30 06:30:34+00:00 Pod luck-instance-v1-core-node2\n",
      "Created 2023-06-30 06:30:34+00:00 Pod luck-instance-v1-core-node2\n",
      "Started 2023-06-30 06:30:34+00:00 Pod luck-instance-v1-core-node2\n",
      "SandboxChanged 2023-06-30 06:30:18+00:00 Pod luck-instance-v1-core-node3\n",
      "Pulled 2023-06-30 06:30:30+00:00 Pod luck-instance-v1-core-node3\n",
      "Created 2023-06-30 06:30:30+00:00 Pod luck-instance-v1-core-node3\n",
      "Started 2023-06-30 06:30:30+00:00 Pod luck-instance-v1-core-node3\n",
      "SandboxChanged 2023-06-30 06:30:16+00:00 Pod luck-instance-v1-uncore-0\n",
      "Pulled 2023-06-30 06:30:35+00:00 Pod luck-instance-v1-uncore-0\n",
      "Created 2023-06-30 06:30:35+00:00 Pod luck-instance-v1-uncore-0\n",
      "Started 2023-06-30 06:30:35+00:00 Pod luck-instance-v1-uncore-0\n",
      "SandboxChanged 2023-06-30 06:30:18+00:00 Pod luck-instance-v1-uncore-1\n",
      "Pulled 2023-06-30 06:30:23+00:00 Pod luck-instance-v1-uncore-1\n",
      "Created 2023-06-30 06:30:23+00:00 Pod luck-instance-v1-uncore-1\n",
      "Started 2023-06-30 06:30:23+00:00 Pod luck-instance-v1-uncore-1\n",
      "SandboxChanged 2023-06-30 06:29:24+00:00 Pod luck-instance-v1-uncore-2\n",
      "Pulled 2023-06-30 06:29:36+00:00 Pod luck-instance-v1-uncore-2\n",
      "Created 2023-06-30 06:29:36+00:00 Pod luck-instance-v1-uncore-2\n",
      "Started 2023-06-30 06:29:36+00:00 Pod luck-instance-v1-uncore-2\n",
      "Killing 2023-06-30 06:08:57+00:00 Pod nginx-deploy-585cf59654-clsqb\n",
      "Killing 2023-06-30 06:09:00+00:00 Pod nginx-deploy-585cf59654-r7mqm\n",
      "SuccessfulDelete 2023-06-30 06:08:57+00:00 ReplicaSet nginx-deploy-585cf59654\n",
      "SuccessfulDelete 2023-06-30 06:09:00+00:00 ReplicaSet nginx-deploy-585cf59654\n",
      "Scheduled 2023-06-30 06:08:56+00:00 Pod nginx-deploy-5c4544d48c-tgxw8\n",
      "Pulled 2023-06-30 06:08:57+00:00 Pod nginx-deploy-5c4544d48c-tgxw8\n",
      "Created 2023-06-30 06:08:57+00:00 Pod nginx-deploy-5c4544d48c-tgxw8\n",
      "Started 2023-06-30 06:08:57+00:00 Pod nginx-deploy-5c4544d48c-tgxw8\n",
      "Killing 2023-06-30 06:20:50+00:00 Pod nginx-deploy-5c4544d48c-tgxw8\n",
      "Scheduled 2023-06-30 06:08:57+00:00 Pod nginx-deploy-5c4544d48c-vjt6c\n",
      "Pulled 2023-06-30 06:08:58+00:00 Pod nginx-deploy-5c4544d48c-vjt6c\n",
      "Created 2023-06-30 06:08:58+00:00 Pod nginx-deploy-5c4544d48c-vjt6c\n",
      "Started 2023-06-30 06:08:58+00:00 Pod nginx-deploy-5c4544d48c-vjt6c\n",
      "Killing 2023-06-30 06:20:51+00:00 Pod nginx-deploy-5c4544d48c-vjt6c\n",
      "SuccessfulCreate 2023-06-30 06:08:56+00:00 ReplicaSet nginx-deploy-5c4544d48c\n",
      "SuccessfulCreate 2023-06-30 06:08:57+00:00 ReplicaSet nginx-deploy-5c4544d48c\n",
      "SuccessfulDelete 2023-06-30 06:20:50+00:00 ReplicaSet nginx-deploy-5c4544d48c\n",
      "SuccessfulDelete 2023-06-30 06:20:51+00:00 ReplicaSet nginx-deploy-5c4544d48c\n",
      "Scheduled 2023-06-30 06:20:50+00:00 Pod nginx-deploy-6fffbb95c6-kv9r6\n",
      "Pulled 2023-06-30 06:20:51+00:00 Pod nginx-deploy-6fffbb95c6-kv9r6\n",
      "Created 2023-06-30 06:20:51+00:00 Pod nginx-deploy-6fffbb95c6-kv9r6\n",
      "Started 2023-06-30 06:20:51+00:00 Pod nginx-deploy-6fffbb95c6-kv9r6\n",
      "FailedMount 2023-06-30 06:30:19+00:00 Pod nginx-deploy-6fffbb95c6-kv9r6\n",
      "FailedMount 2023-06-30 06:30:20+00:00 Pod nginx-deploy-6fffbb95c6-kv9r6\n",
      "FailedMount 2023-06-30 06:30:21+00:00 Pod nginx-deploy-6fffbb95c6-kv9r6\n",
      "FailedMount 2023-06-30 06:30:23+00:00 Pod nginx-deploy-6fffbb95c6-kv9r6\n",
      "FailedMount 2023-06-30 06:30:27+00:00 Pod nginx-deploy-6fffbb95c6-kv9r6\n",
      "FailedMount 2023-06-30 06:30:35+00:00 Pod nginx-deploy-6fffbb95c6-kv9r6\n",
      "FailedMount 2023-06-30 06:30:51+00:00 Pod nginx-deploy-6fffbb95c6-kv9r6\n",
      "SandboxChanged 2023-06-30 06:31:24+00:00 Pod nginx-deploy-6fffbb95c6-kv9r6\n",
      "Pulled 2023-06-30 06:31:24+00:00 Pod nginx-deploy-6fffbb95c6-kv9r6\n",
      "Created 2023-06-30 06:31:24+00:00 Pod nginx-deploy-6fffbb95c6-kv9r6\n",
      "Started 2023-06-30 06:31:24+00:00 Pod nginx-deploy-6fffbb95c6-kv9r6\n",
      "Scheduled 2023-06-30 06:20:48+00:00 Pod nginx-deploy-6fffbb95c6-z8c5w\n",
      "Pulled 2023-06-30 06:20:49+00:00 Pod nginx-deploy-6fffbb95c6-z8c5w\n",
      "Created 2023-06-30 06:20:49+00:00 Pod nginx-deploy-6fffbb95c6-z8c5w\n",
      "Started 2023-06-30 06:20:49+00:00 Pod nginx-deploy-6fffbb95c6-z8c5w\n",
      "FailedMount 2023-06-30 06:30:17+00:00 Pod nginx-deploy-6fffbb95c6-z8c5w\n",
      "FailedMount 2023-06-30 06:30:18+00:00 Pod nginx-deploy-6fffbb95c6-z8c5w\n",
      "FailedMount 2023-06-30 06:30:19+00:00 Pod nginx-deploy-6fffbb95c6-z8c5w\n",
      "FailedMount 2023-06-30 06:30:21+00:00 Pod nginx-deploy-6fffbb95c6-z8c5w\n",
      "FailedMount 2023-06-30 06:30:25+00:00 Pod nginx-deploy-6fffbb95c6-z8c5w\n",
      "FailedMount 2023-06-30 06:30:33+00:00 Pod nginx-deploy-6fffbb95c6-z8c5w\n",
      "FailedMount 2023-06-30 06:30:49+00:00 Pod nginx-deploy-6fffbb95c6-z8c5w\n",
      "SandboxChanged 2023-06-30 06:31:22+00:00 Pod nginx-deploy-6fffbb95c6-z8c5w\n",
      "Pulled 2023-06-30 06:31:22+00:00 Pod nginx-deploy-6fffbb95c6-z8c5w\n",
      "Created 2023-06-30 06:31:22+00:00 Pod nginx-deploy-6fffbb95c6-z8c5w\n",
      "Started 2023-06-30 06:31:22+00:00 Pod nginx-deploy-6fffbb95c6-z8c5w\n",
      "SuccessfulCreate 2023-06-30 06:20:48+00:00 ReplicaSet nginx-deploy-6fffbb95c6\n",
      "SuccessfulCreate 2023-06-30 06:20:50+00:00 ReplicaSet nginx-deploy-6fffbb95c6\n",
      "ScalingReplicaSet 2023-06-30 06:08:56+00:00 Deployment nginx-deploy\n",
      "ScalingReplicaSet 2023-06-30 06:08:57+00:00 Deployment nginx-deploy\n",
      "ScalingReplicaSet 2023-06-30 06:08:57+00:00 Deployment nginx-deploy\n",
      "ScalingReplicaSet 2023-06-30 06:09:00+00:00 Deployment nginx-deploy\n",
      "ScalingReplicaSet 2023-06-30 06:20:48+00:00 Deployment nginx-deploy\n",
      "ScalingReplicaSet 2023-06-30 06:20:50+00:00 Deployment nginx-deploy\n",
      "ScalingReplicaSet 2023-06-30 06:20:50+00:00 Deployment nginx-deploy\n",
      "ScalingReplicaSet 2023-06-30 06:20:51+00:00 Deployment nginx-deploy\n"
     ]
    }
   ],
   "source": [
    "#查看namespace下的所有event，不能指定label_selector否则查不到数据\n",
    "events = core_v1.list_namespaced_event(\"default\")\n",
    "for event in events.items:\n",
    "    kind = event.involved_object.kind\n",
    "    name = event.involved_object.name\n",
    "    reason = event.reason  #时间原因：重点关注started、还有如scheduled、pulled、created、FailedMount...等\n",
    "    age = event.metadata.creation_timestamp  #事件时间戳\n",
    "    print(reason, age, kind, name)"
   ],
   "metadata": {
    "collapsed": false,
    "pycharm": {
     "name": "#%%\n"
    }
   }
  },
  {
   "cell_type": "code",
   "execution_count": 23,
   "outputs": [
    {
     "name": "stdout",
     "output_type": "stream",
     "text": [
      "Scheduled 2023-06-30 06:20:48+00:00 Pod nginx-deploy-6fffbb95c6-z8c5w\n",
      "Pulled 2023-06-30 06:20:49+00:00 Pod nginx-deploy-6fffbb95c6-z8c5w\n",
      "Created 2023-06-30 06:20:49+00:00 Pod nginx-deploy-6fffbb95c6-z8c5w\n",
      "Started 2023-06-30 06:20:49+00:00 Pod nginx-deploy-6fffbb95c6-z8c5w\n",
      "FailedMount 2023-06-30 06:30:17+00:00 Pod nginx-deploy-6fffbb95c6-z8c5w\n",
      "FailedMount 2023-06-30 06:30:18+00:00 Pod nginx-deploy-6fffbb95c6-z8c5w\n",
      "FailedMount 2023-06-30 06:30:19+00:00 Pod nginx-deploy-6fffbb95c6-z8c5w\n",
      "FailedMount 2023-06-30 06:30:21+00:00 Pod nginx-deploy-6fffbb95c6-z8c5w\n",
      "FailedMount 2023-06-30 06:30:25+00:00 Pod nginx-deploy-6fffbb95c6-z8c5w\n",
      "FailedMount 2023-06-30 06:30:33+00:00 Pod nginx-deploy-6fffbb95c6-z8c5w\n",
      "FailedMount 2023-06-30 06:30:49+00:00 Pod nginx-deploy-6fffbb95c6-z8c5w\n",
      "SandboxChanged 2023-06-30 06:31:22+00:00 Pod nginx-deploy-6fffbb95c6-z8c5w\n",
      "Pulled 2023-06-30 06:31:22+00:00 Pod nginx-deploy-6fffbb95c6-z8c5w\n",
      "Created 2023-06-30 06:31:22+00:00 Pod nginx-deploy-6fffbb95c6-z8c5w\n",
      "Started 2023-06-30 06:31:22+00:00 Pod nginx-deploy-6fffbb95c6-z8c5w\n"
     ]
    }
   ],
   "source": [
    "# 指定命名空间和Pod名称\n",
    "namespace = \"default\"\n",
    "pod_name = \"nginx-deploy-6fffbb95c6-z8c5w\"\n",
    "\n",
    "# 获取Pod的事件\n",
    "events = core_v1.list_namespaced_event(namespace=namespace, field_selector=f\"involvedObject.name={pod_name}\")\n",
    "# 打印事件信息\n",
    "for event in events.items:\n",
    "    kind = event.involved_object.kind\n",
    "    name = event.involved_object.name\n",
    "    event_type = event.type\n",
    "    reason = event.reason  #时间原因：重点关注started、还有如scheduled、pulled、created、FailedMount...等\n",
    "    age = event.metadata.creation_timestamp  #事件时间戳\n",
    "    event_from = event.source.component\n",
    "    message = event.message\n",
    "    # print(f\"Event: Type={event_type}, Reason={reason}, Age={age}, From={event_from}, Message={message}\")\n",
    "    print(reason, age, kind, name)"
   ],
   "metadata": {
    "collapsed": false,
    "pycharm": {
     "name": "#%%\n"
    }
   }
  },
  {
   "cell_type": "code",
   "execution_count": 17,
   "outputs": [],
   "source": [],
   "metadata": {
    "collapsed": false,
    "pycharm": {
     "name": "#%%\n"
    }
   }
  }
 ],
 "metadata": {
  "kernelspec": {
   "display_name": "Python 3",
   "language": "python",
   "name": "python3"
  },
  "language_info": {
   "codemirror_mode": {
    "name": "ipython",
    "version": 2
   },
   "file_extension": ".py",
   "mimetype": "text/x-python",
   "name": "python",
   "nbconvert_exporter": "python",
   "pygments_lexer": "ipython2",
   "version": "2.7.6"
  }
 },
 "nbformat": 4,
 "nbformat_minor": 0
}