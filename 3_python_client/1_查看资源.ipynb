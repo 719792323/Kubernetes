{
 "cells": [
  {
   "cell_type": "code",
   "execution_count": 1,
   "outputs": [],
   "source": [
    "# https://www.cnblogs.com/machangwei-8/p/15925358.html\n",
    "from kubernetes import client, config\n",
    "# 加载认证文件\n",
    "# config.kube_config.load_kube_config(\"minikube_config.yml\")\n",
    "config.kube_config.load_kube_config(\"config.yml\")"
   ],
   "metadata": {
    "collapsed": false,
    "pycharm": {
     "name": "#%%\n"
    }
   }
  },
  {
   "cell_type": "code",
   "execution_count": 2,
   "outputs": [],
   "source": [
    "#获取CoreV1Api和BatchV1Api版本对象\n",
    "core_v1 = client.CoreV1Api()  #用于操作核心v1 API组中的资源，如Pod、Service、Node、Namespace等\n",
    "batch_v1 = client.BatchV1Api()  #用于操作Job等资源\n",
    "apps_v1 = client.AppsV1Api()  #用于操作Deployment、DaemonSet、ReplicaSet和StatefulSet\n",
    "custom_api = client.CustomObjectsApi()  #用于操作CRD"
   ],
   "metadata": {
    "collapsed": false,
    "pycharm": {
     "name": "#%%\n"
    }
   }
  },
  {
   "cell_type": "code",
   "execution_count": 3,
   "outputs": [
    {
     "name": "stdout",
     "output_type": "stream",
     "text": [
      "default\n",
      "kube-node-lease\n",
      "kube-public\n",
      "kube-system\n",
      "kuboard\n"
     ]
    }
   ],
   "source": [
    "# 列出命名空间\n",
    "for ns in core_v1.list_namespace().items:\n",
    "    print(ns.metadata.name)"
   ],
   "metadata": {
    "collapsed": false,
    "pycharm": {
     "name": "#%%\n"
    }
   }
  },
  {
   "cell_type": "code",
   "execution_count": 4,
   "outputs": [
    {
     "name": "stdout",
     "output_type": "stream",
     "text": [
      "name:bigdata1,status:Ready,ip:192.168.0.44,version:v1.17.4,os:CentOS Linux 7 (Core)\n",
      "name:bigdata2,status:Ready,ip:192.168.0.18,version:v1.17.4,os:CentOS Linux 7 (Core)\n",
      "name:bigdata3,status:Ready,ip:192.168.0.67,version:v1.17.4,os:CentOS Linux 7 (Core)\n",
      "name:bigdata4,status:Ready,ip:192.168.0.95,version:v1.17.4,os:CentOS Linux 7 (Core)\n"
     ]
    }
   ],
   "source": [
    "# 列出所有nodes\n",
    "for node in core_v1.list_node().items:\n",
    "    name = node.metadata.name\n",
    "    status = node.status.conditions[-1].type if node.status.conditions[-1].status == \"True\" else \"NotReady\"\n",
    "    ip = node.status.addresses[0].address\n",
    "    version = node.status.node_info.kubelet_version\n",
    "    os = node.status.node_info.os_image\n",
    "    print(\"name:{},status:{},ip:{},version:{},os:{}\".format(name, status, ip,version,os))"
   ],
   "metadata": {
    "collapsed": false,
    "pycharm": {
     "name": "#%%\n"
    }
   }
  },
  {
   "cell_type": "code",
   "execution_count": 5,
   "outputs": [
    {
     "name": "stdout",
     "output_type": "stream",
     "text": [
      "kubernetes\n",
      "10.96.0.1\n",
      "default\n",
      "[{'app_protocol': None,\n",
      " 'name': 'https',\n",
      " 'node_port': None,\n",
      " 'port': 443,\n",
      " 'protocol': 'TCP',\n",
      " 'target_port': 6443}]\n",
      "ClusterIP\n",
      "None\n",
      "kube-dns\n",
      "10.96.0.10\n",
      "kube-system\n",
      "[{'app_protocol': None,\n",
      " 'name': 'dns',\n",
      " 'node_port': None,\n",
      " 'port': 53,\n",
      " 'protocol': 'UDP',\n",
      " 'target_port': 53}, {'app_protocol': None,\n",
      " 'name': 'dns-tcp',\n",
      " 'node_port': None,\n",
      " 'port': 53,\n",
      " 'protocol': 'TCP',\n",
      " 'target_port': 53}, {'app_protocol': None,\n",
      " 'name': 'metrics',\n",
      " 'node_port': None,\n",
      " 'port': 9153,\n",
      " 'protocol': 'TCP',\n",
      " 'target_port': 9153}]\n",
      "ClusterIP\n",
      "{'k8s-app': 'kube-dns'}\n",
      "kubelet\n",
      "None\n",
      "kube-system\n",
      "[{'app_protocol': None,\n",
      " 'name': 'https-metrics',\n",
      " 'node_port': None,\n",
      " 'port': 10250,\n",
      " 'protocol': 'TCP',\n",
      " 'target_port': 10250}, {'app_protocol': None,\n",
      " 'name': 'http-metrics',\n",
      " 'node_port': None,\n",
      " 'port': 10255,\n",
      " 'protocol': 'TCP',\n",
      " 'target_port': 10255}, {'app_protocol': None,\n",
      " 'name': 'cadvisor',\n",
      " 'node_port': None,\n",
      " 'port': 4194,\n",
      " 'protocol': 'TCP',\n",
      " 'target_port': 4194}]\n",
      "ClusterIP\n",
      "None\n",
      "metrics-server\n",
      "10.108.254.91\n",
      "kube-system\n",
      "[{'app_protocol': None,\n",
      " 'name': 'https',\n",
      " 'node_port': None,\n",
      " 'port': 443,\n",
      " 'protocol': 'TCP',\n",
      " 'target_port': 443}]\n",
      "ClusterIP\n",
      "{'k8s-app': 'metrics-server'}\n"
     ]
    }
   ],
   "source": [
    "# 列出所有service，对应命令：kubectl get service --all-namespaces -o wide\n",
    "for service in core_v1.list_service_for_all_namespaces().items:\n",
    "    print(service.metadata.name)\n",
    "    print(service.spec.cluster_ip)\n",
    "    print(service.metadata.namespace)\n",
    "    print(service.spec.ports)\n",
    "    print(service.spec.type)\n",
    "    print(service.spec.selector)"
   ],
   "metadata": {
    "collapsed": false,
    "pycharm": {
     "name": "#%%\n"
    }
   }
  },
  {
   "cell_type": "code",
   "execution_count": 6,
   "outputs": [],
   "source": [
    "# 列出指定ns的pod\n",
    "for pod in core_v1.list_namespaced_pod(\"default\").items:\n",
    "    print(\"name:{},ip:{},ns:{}\".format(pod.metadata.name ,pod.status.pod_ip,pod.metadata.namespace))"
   ],
   "metadata": {
    "collapsed": false,
    "pycharm": {
     "name": "#%%\n"
    }
   }
  },
  {
   "cell_type": "code",
   "execution_count": 7,
   "outputs": [
    {
     "name": "stdout",
     "output_type": "stream",
     "text": [
      "name:calico-kube-controllers-6b94766748-f55lq,ip:10.244.191.214,ns:kube-system\n",
      "name:calico-node-5sdft,ip:192.168.0.95,ns:kube-system\n",
      "name:calico-node-cpq7b,ip:192.168.0.67,ns:kube-system\n",
      "name:calico-node-tfj95,ip:192.168.0.44,ns:kube-system\n",
      "name:calico-node-vqb2x,ip:192.168.0.18,ns:kube-system\n",
      "name:coredns-6955765f44-f28m2,ip:10.244.191.213,ns:kube-system\n",
      "name:coredns-6955765f44-wcfvm,ip:10.244.251.9,ns:kube-system\n",
      "name:etcd-bigdata1,ip:192.168.0.44,ns:kube-system\n",
      "name:kube-apiserver-bigdata1,ip:192.168.0.44,ns:kube-system\n",
      "name:kube-controller-manager-bigdata1,ip:192.168.0.44,ns:kube-system\n",
      "name:kube-proxy-29p4r,ip:192.168.0.44,ns:kube-system\n",
      "name:kube-proxy-sch6n,ip:192.168.0.18,ns:kube-system\n",
      "name:kube-proxy-w62dp,ip:192.168.0.67,ns:kube-system\n",
      "name:kube-proxy-x8469,ip:192.168.0.95,ns:kube-system\n",
      "name:kube-scheduler-bigdata1,ip:192.168.0.44,ns:kube-system\n",
      "name:metrics-server-5cf78b8dc6-g88pp,ip:10.244.34.138,ns:kube-system\n",
      "name:metrics-server-5cf78b8dc6-gmljh,ip:10.244.251.12,ns:kube-system\n",
      "name:kuboard-agent-1mbqj12-2-84db6c9f6c-75jsd,ip:10.244.251.10,ns:kuboard\n",
      "name:kuboard-agent-1mbqj12-8458d8cb9-r7mn9,ip:10.244.251.11,ns:kuboard\n"
     ]
    }
   ],
   "source": [
    "# 列出所有ns的pod\n",
    "for pod in core_v1.list_pod_for_all_namespaces().items:\n",
    "    print(\"name:{},ip:{},ns:{}\".format(pod.metadata.name ,pod.status.pod_ip,pod.metadata.namespace))"
   ],
   "metadata": {
    "collapsed": false,
    "pycharm": {
     "name": "#%%\n"
    }
   }
  },
  {
   "cell_type": "code",
   "execution_count": 21,
   "outputs": [
    {
     "name": "stdout",
     "output_type": "stream",
     "text": [
      "{'apiVersion': 'stable.example.com/v1', 'kind': 'CronTab', 'metadata': {'annotations': {'kubectl.kubernetes.io/last-applied-configuration': '{\"apiVersion\":\"stable.example.com/v1\",\"kind\":\"CronTab\",\"metadata\":{\"annotations\":{},\"name\":\"my-new-cron-object\",\"namespace\":\"default\"},\"spec\":{\"cronSpec\":\"* * * * */5\",\"image\":\"my-awesome-cron-image\",\"replicas\":3}}\\n'}, 'creationTimestamp': '2023-04-20T07:30:00Z', 'generation': 1, 'name': 'my-new-cron-object', 'namespace': 'default', 'resourceVersion': '1992820', 'selfLink': '/apis/stable.example.com/v1/namespaces/default/crontabs/my-new-cron-object', 'uid': 'c5479ffe-3d08-48b3-ba84-7ee56bd493af'}, 'spec': {'cronSpec': '* * * * */5', 'image': 'my-awesome-cron-image', 'replicas': 3}}\n"
     ]
    }
   ],
   "source": [
    "# 查看crd资源\n",
    "for cr in custom_api.list_namespaced_custom_object(group=\"stable.example.com\",version=\"v1\",namespace=\"default\",plural=\"crontabs\")[\"items\"]:\n",
    "    print(cr)"
   ],
   "metadata": {
    "collapsed": false,
    "pycharm": {
     "name": "#%%\n"
    }
   }
  }
 ],
 "metadata": {
  "kernelspec": {
   "display_name": "Python 3",
   "language": "python",
   "name": "python3"
  },
  "language_info": {
   "codemirror_mode": {
    "name": "ipython",
    "version": 2
   },
   "file_extension": ".py",
   "mimetype": "text/x-python",
   "name": "python",
   "nbconvert_exporter": "python",
   "pygments_lexer": "ipython2",
   "version": "2.7.6"
  }
 },
 "nbformat": 4,
 "nbformat_minor": 0
}