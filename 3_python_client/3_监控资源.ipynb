{
 "cells": [
  {
   "cell_type": "code",
   "execution_count": 1,
   "metadata": {
    "collapsed": true,
    "pycharm": {
     "name": "#%%\n"
    }
   },
   "outputs": [],
   "source": [
    "from kubernetes import client, config, watch\n",
    "import uuid\n",
    "\n",
    "config.kube_config.load_kube_config(\"config.yml\")\n",
    "core_v1 = client.CoreV1Api()"
   ]
  },
  {
   "cell_type": "code",
   "execution_count": 2,
   "outputs": [
    {
     "name": "stdout",
     "output_type": "stream",
     "text": [
      "event: ADDED nginx-9401e806-12af-4026-85af-6e52facd51e3\n",
      "event: MODIFIED nginx-9401e806-12af-4026-85af-6e52facd51e3\n",
      "event: MODIFIED nginx-9401e806-12af-4026-85af-6e52facd51e3\n",
      "event: MODIFIED nginx-9401e806-12af-4026-85af-6e52facd51e3\n",
      "event: MODIFIED nginx-9401e806-12af-4026-85af-6e52facd51e3\n",
      "event: MODIFIED nginx-9401e806-12af-4026-85af-6e52facd51e3\n",
      "event: MODIFIED nginx-9401e806-12af-4026-85af-6e52facd51e3\n",
      "event: DELETED nginx-9401e806-12af-4026-85af-6e52facd51e3\n",
      "pod:nginx-9401e806-12af-4026-85af-6e52facd51e3 life end,exit watch\n"
     ]
    }
   ],
   "source": [
    "nginx_pod_name = 'nginx-{}'.format(uuid.uuid4())\n",
    "nginx_pod = {\n",
    "    'apiVersion': 'v1',\n",
    "    'kind': 'Pod',\n",
    "    'metadata': {\n",
    "        'name': nginx_pod_name,\n",
    "        'labels': {\n",
    "            \"app\": \"nginx\"\n",
    "        }\n",
    "    },\n",
    "    'spec': {\n",
    "        'containers': [\n",
    "            {\n",
    "                'name': 'my-container',\n",
    "                'image': 'nginx:1.7.9',\n",
    "                \"ports\": [\n",
    "                    {\n",
    "                        \"containerPort\": 80\n",
    "                    }\n",
    "                ]\n",
    "            }\n",
    "        ],\n",
    "        #指定调度节点\n",
    "        # 'nodeSelector': {\n",
    "        #     'kubernetes.io/hostname': 'bigdata4'\n",
    "        # }\n",
    "    }\n",
    "}\n",
    "#创建\n",
    "core_v1.create_namespaced_pod(body=nginx_pod, namespace=\"default\")\n",
    "#监控\n",
    "close = True\n",
    "try:\n",
    "    w = watch.Watch()\n",
    "    # 监控default命名空间中的pod\n",
    "    for event in w.stream(core_v1.list_namespaced_pod, namespace=\"default\"):\n",
    "        print(\"event: %s %s\" % (event['type'], event['object'].metadata.name))\n",
    "        if event['object'].metadata.name == nginx_pod_name and event['type'] == \"DELETED\":\n",
    "            print(\"pod:{} life end,exit watch\".format(nginx_pod_name))\n",
    "            w.stop()\n",
    "            close = False\n",
    "            break\n",
    "except Exception as e:\n",
    "    e.with_traceback()\n",
    "finally:\n",
    "    if close:\n",
    "        core_v1.delete_namespaced_pod(name=nginx_pod_name, namespace=\"default\")"
   ],
   "metadata": {
    "collapsed": false,
    "pycharm": {
     "name": "#%%\n"
    }
   }
  }
 ],
 "metadata": {
  "kernelspec": {
   "display_name": "Python 3",
   "language": "python",
   "name": "python3"
  },
  "language_info": {
   "codemirror_mode": {
    "name": "ipython",
    "version": 2
   },
   "file_extension": ".py",
   "mimetype": "text/x-python",
   "name": "python",
   "nbconvert_exporter": "python",
   "pygments_lexer": "ipython2",
   "version": "2.7.6"
  }
 },
 "nbformat": 4,
 "nbformat_minor": 0
}