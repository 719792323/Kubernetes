{
 "cells": [
  {
   "cell_type": "code",
   "execution_count": 1,
   "metadata": {
    "collapsed": true,
    "pycharm": {
     "name": "#%%\n"
    }
   },
   "outputs": [],
   "source": [
    "from kubernetes import client, config, watch\n",
    "import uuid\n",
    "\n",
    "# config.kube_config.load_kube_config(\"minikube_config.yml\")\n",
    "config.kube_config.load_kube_config(\"config.yml\")\n",
    "core_v1 = client.CoreV1Api()  #用于操作核心v1 API组中的资源，如Pod、Service、Node、Namespace等\n",
    "batch_v1 = client.BatchV1Api()  #用于操作Job等资源\n",
    "apps_v1 = client.AppsV1Api()  #用于操作Deployment、DaemonSet、ReplicaSet和StatefulSet\n",
    "custom_api = client.CustomObjectsApi()  #用于操作CRD"
   ]
  },
  {
   "cell_type": "code",
   "execution_count": null,
   "outputs": [
    {
     "name": "stdout",
     "output_type": "stream",
     "text": [
      "event: ADDED nginx-deploy-57456c49b5-rn8mm\n",
      "event: ADDED nginx-deploy-57456c49b5-t827s\n",
      "event: ADDED nginx-d24303ae-92a8-4da2-9fbb-31bd3b61cd03\n",
      "event: ADDED nginx-2fa08c5f-1436-4a30-a3c1-627f3b912022\n",
      "event: MODIFIED nginx-2fa08c5f-1436-4a30-a3c1-627f3b912022\n",
      "event: MODIFIED nginx-2fa08c5f-1436-4a30-a3c1-627f3b912022\n",
      "event: MODIFIED nginx-2fa08c5f-1436-4a30-a3c1-627f3b912022\n"
     ]
    }
   ],
   "source": [
    "nginx_pod_name = 'nginx-{}'.format(uuid.uuid4())\n",
    "nginx_pod = {\n",
    "    'apiVersion': 'v1',\n",
    "    'kind': 'Pod',\n",
    "    'metadata': {\n",
    "        'name': nginx_pod_name,\n",
    "        'labels': {\n",
    "            \"app\": \"nginx\"\n",
    "        }\n",
    "    },\n",
    "    'spec': {\n",
    "        'containers': [\n",
    "            {\n",
    "                'name': 'my-container',\n",
    "                'image': 'nginx:1.7.9',\n",
    "                \"ports\": [\n",
    "                    {\n",
    "                        \"containerPort\": 80\n",
    "                    }\n",
    "                ]\n",
    "            }\n",
    "        ],\n",
    "        #指定调度节点\n",
    "        # 'nodeSelector': {\n",
    "        #     'kubernetes.io/hostname': 'bigdata4'\n",
    "        # }\n",
    "    }\n",
    "}\n",
    "#创建\n",
    "core_v1.create_namespaced_pod(body=nginx_pod, namespace=\"default\")\n",
    "#监控\n",
    "close = True\n",
    "try:\n",
    "    w = watch.Watch()\n",
    "    # 监控default命名空间中的pod\n",
    "    for event in w.stream(core_v1.list_namespaced_pod, namespace=\"default\"):\n",
    "        print(\"event: %s %s\" % (event['type'], event['object'].metadata.name))\n",
    "        if event['object'].metadata.name == nginx_pod_name and event['type'] == \"DELETED\":\n",
    "            print(\"pod:{} life end,exit watch\".format(nginx_pod_name))\n",
    "            w.stop()\n",
    "            close = False\n",
    "            break\n",
    "except Exception as e:\n",
    "    e.with_traceback()\n",
    "finally:\n",
    "    if close:\n",
    "        core_v1.delete_namespaced_pod(name=nginx_pod_name, namespace=\"default\")"
   ],
   "metadata": {
    "collapsed": false,
    "pycharm": {
     "name": "#%%\n",
     "is_executing": true
    }
   }
  },
  {
   "cell_type": "code",
   "execution_count": null,
   "outputs": [
    {
     "name": "stdout",
     "output_type": "stream",
     "text": [
      "Pod Added: nginx-deploy-7669d4b87b-z5zl6\n",
      "Pod Added: nginx-deploy-7669d4b87b-ft8cz\n",
      "Pod Added: nginx-deploy-57456c49b5-t827s\n",
      "Pod Modified: nginx-deploy-57456c49b5-t827s\n",
      "Pod Modified: nginx-deploy-57456c49b5-t827s\n",
      "Pod Modified: nginx-deploy-57456c49b5-t827s\n",
      "Pod Modified: nginx-deploy-57456c49b5-t827s\n",
      "Pod Modified: nginx-deploy-7669d4b87b-ft8cz\n",
      "Pod Added: nginx-deploy-57456c49b5-rn8mm\n",
      "Pod Modified: nginx-deploy-57456c49b5-rn8mm\n",
      "Pod Modified: nginx-deploy-57456c49b5-rn8mm\n",
      "Pod Modified: nginx-deploy-57456c49b5-rn8mm\n",
      "Pod Modified: nginx-deploy-7669d4b87b-ft8cz\n",
      "Pod Modified: nginx-deploy-57456c49b5-rn8mm\n",
      "Pod Modified: nginx-deploy-7669d4b87b-z5zl6\n",
      "Pod Modified: nginx-deploy-7669d4b87b-z5zl6\n",
      "Pod Modified: nginx-deploy-7669d4b87b-ft8cz\n",
      "Pod Deleted: nginx-deploy-7669d4b87b-ft8cz\n",
      "Pod Modified: nginx-deploy-7669d4b87b-z5zl6\n",
      "Pod Deleted: nginx-deploy-7669d4b87b-z5zl6\n"
     ]
    }
   ],
   "source": [
    "# 监控具有特定标签的pod\n",
    "w = watch.Watch()\n",
    "label_selector = \"k8s.kuboard.cn/name=nginx-deploy\"\n",
    "for event in w.stream(core_v1.list_namespaced_pod, namespace=\"default\", label_selector=label_selector):\n",
    "    pod = event['object']\n",
    "    if event['type'] == 'ADDED':\n",
    "        print(\"Pod Added: %s\" % pod.metadata.name)\n",
    "    elif event['type'] == 'MODIFIED':\n",
    "        print(\"Pod Modified: %s\" % pod.metadata.name)\n",
    "    elif event['type'] == 'DELETED':\n",
    "        print(\"Pod Deleted: %s\" % pod.metadata.name)\n",
    "    elif event['type'] == 'ERROR':\n",
    "        print(\"Error encountered: %s\" % event['object'])\n"
   ],
   "metadata": {
    "collapsed": false,
    "pycharm": {
     "name": "#%%\n",
     "is_executing": true
    }
   }
  },
  {
   "cell_type": "code",
   "execution_count": 2,
   "outputs": [
    {
     "name": "stdout",
     "output_type": "stream",
     "text": [
      "{'type': 'ADDED', 'object': {'apiVersion': 'stable.example.com/v1', 'kind': 'CronTab', 'metadata': {'annotations': {'kubectl.kubernetes.io/last-applied-configuration': '{\"apiVersion\":\"stable.example.com/v1\",\"kind\":\"CronTab\",\"metadata\":{\"annotations\":{},\"name\":\"my-new-cron-object\",\"namespace\":\"default\"},\"spec\":{\"cronSpec\":\"* * * * */5\",\"image\":\"my-awesome-cron-image\",\"replicas\":3}}\\n'}, 'creationTimestamp': '2023-06-07T02:12:29Z', 'generation': 1, 'name': 'my-new-cron-object', 'namespace': 'default', 'resourceVersion': '7145600', 'selfLink': '/apis/stable.example.com/v1/namespaces/default/crontabs/my-new-cron-object', 'uid': '61bf5863-c484-41f0-80e6-5036355786ea'}, 'spec': {'cronSpec': '* * * * */5', 'image': 'my-awesome-cron-image', 'replicas': 3}}, 'raw_object': {'apiVersion': 'stable.example.com/v1', 'kind': 'CronTab', 'metadata': {'annotations': {'kubectl.kubernetes.io/last-applied-configuration': '{\"apiVersion\":\"stable.example.com/v1\",\"kind\":\"CronTab\",\"metadata\":{\"annotations\":{},\"name\":\"my-new-cron-object\",\"namespace\":\"default\"},\"spec\":{\"cronSpec\":\"* * * * */5\",\"image\":\"my-awesome-cron-image\",\"replicas\":3}}\\n'}, 'creationTimestamp': '2023-06-07T02:12:29Z', 'generation': 1, 'name': 'my-new-cron-object', 'namespace': 'default', 'resourceVersion': '7145600', 'selfLink': '/apis/stable.example.com/v1/namespaces/default/crontabs/my-new-cron-object', 'uid': '61bf5863-c484-41f0-80e6-5036355786ea'}, 'spec': {'cronSpec': '* * * * */5', 'image': 'my-awesome-cron-image', 'replicas': 3}}}\n",
      "event: ADDED my-new-cron-object\n",
      "{'type': 'MODIFIED', 'object': {'apiVersion': 'stable.example.com/v1', 'kind': 'CronTab', 'metadata': {'creationTimestamp': '2023-06-07T02:12:29Z', 'generation': 2, 'name': 'my-new-cron-object', 'namespace': 'default', 'resourceVersion': '7147796', 'selfLink': '/apis/stable.example.com/v1/namespaces/default/crontabs/my-new-cron-object', 'uid': '61bf5863-c484-41f0-80e6-5036355786ea'}, 'spec': {'cronSpec': '* * * * */5', 'image': 'my-awesome-cron-image', 'replicas': 2}}, 'raw_object': {'apiVersion': 'stable.example.com/v1', 'kind': 'CronTab', 'metadata': {'creationTimestamp': '2023-06-07T02:12:29Z', 'generation': 2, 'name': 'my-new-cron-object', 'namespace': 'default', 'resourceVersion': '7147796', 'selfLink': '/apis/stable.example.com/v1/namespaces/default/crontabs/my-new-cron-object', 'uid': '61bf5863-c484-41f0-80e6-5036355786ea'}, 'spec': {'cronSpec': '* * * * */5', 'image': 'my-awesome-cron-image', 'replicas': 2}}}\n",
      "event: MODIFIED my-new-cron-object\n",
      "{'type': 'DELETED', 'object': {'apiVersion': 'stable.example.com/v1', 'kind': 'CronTab', 'metadata': {'creationTimestamp': '2023-06-07T02:12:29Z', 'generation': 2, 'name': 'my-new-cron-object', 'namespace': 'default', 'resourceVersion': '7147891', 'selfLink': '/apis/stable.example.com/v1/namespaces/default/crontabs/my-new-cron-object', 'uid': '61bf5863-c484-41f0-80e6-5036355786ea'}, 'spec': {'cronSpec': '* * * * */5', 'image': 'my-awesome-cron-image', 'replicas': 2}}, 'raw_object': {'apiVersion': 'stable.example.com/v1', 'kind': 'CronTab', 'metadata': {'creationTimestamp': '2023-06-07T02:12:29Z', 'generation': 2, 'name': 'my-new-cron-object', 'namespace': 'default', 'resourceVersion': '7147891', 'selfLink': '/apis/stable.example.com/v1/namespaces/default/crontabs/my-new-cron-object', 'uid': '61bf5863-c484-41f0-80e6-5036355786ea'}, 'spec': {'cronSpec': '* * * * */5', 'image': 'my-awesome-cron-image', 'replicas': 2}}}\n",
      "event: DELETED my-new-cron-object\n"
     ]
    }
   ],
   "source": [
    "# 监控定义CRD下所有CR\n",
    "group = \"stable.example.com\"\n",
    "version = \"v1\"\n",
    "plural = \"crontabs\"\n",
    "namespace = \"default\"\n",
    "try:\n",
    "    w = watch.Watch()\n",
    "    for event in w.stream(custom_api.list_namespaced_custom_object, group=group, version=version, namespace=namespace,\n",
    "                          plural=plural):\n",
    "        print(event)\n",
    "        print(\"event: %s %s\" % (event['type'], event[\"object\"][\"metadata\"][\"name\"]))\n",
    "        if event['type'] == \"DELETED\":\n",
    "            w.stop()\n",
    "            break\n",
    "except Exception as e:\n",
    "    e.with_traceback()"
   ],
   "metadata": {
    "collapsed": false,
    "pycharm": {
     "name": "#%%\n"
    }
   }
  },
  {
   "cell_type": "code",
   "execution_count": null,
   "outputs": [
    {
     "name": "stdout",
     "output_type": "stream",
     "text": [
      "Event: Type=ADDED, Reason=Scheduled, Age=2023-07-05 02:28:48+00:00, From=default-scheduler, Message=Successfully assigned default/01548f3a-ca3b-4527-b145-112a0966b813-auto-scale-0 to bigdata2\n",
      "Event: Type=ADDED, Reason=FailedMount, Age=2023-07-05 02:30:51+00:00, From=kubelet, Message=Unable to attach or mount volumes: unmounted volumes=[default-token-zkplr], unattached volumes=[default-token-zkplr]: timed out waiting for the condition\n",
      "Event: Type=ADDED, Reason=Scheduled, Age=2023-07-05 02:28:48+00:00, From=default-scheduler, Message=Successfully assigned default/01548f3a-ca3b-4527-b145-112a0966b813-auto-scale-1 to bigdata4\n",
      "Event: Type=ADDED, Reason=FailedMount, Age=2023-07-05 02:30:51+00:00, From=kubelet, Message=Unable to attach or mount volumes: unmounted volumes=[default-token-zkplr], unattached volumes=[default-token-zkplr]: timed out waiting for the condition\n",
      "Event: Type=ADDED, Reason=Scheduled, Age=2023-07-05 02:15:32+00:00, From=default-scheduler, Message=Successfully assigned default/20eef469-6535-48ca-a54b-ee6e48e920fb-auto-scale-0 to bigdata4\n",
      "Event: Type=ADDED, Reason=Pulled, Age=2023-07-05 02:15:33+00:00, From=kubelet, Message=Container image \"nginx:1.7.9\" already present on machine\n",
      "Event: Type=ADDED, Reason=Created, Age=2023-07-05 02:15:33+00:00, From=kubelet, Message=Created container 20eef469-6535-48ca-a54b-ee6e48e920fb-auto-scale-0\n",
      "Event: Type=ADDED, Reason=Started, Age=2023-07-05 02:15:33+00:00, From=kubelet, Message=Started container 20eef469-6535-48ca-a54b-ee6e48e920fb-auto-scale-0\n",
      "Event: Type=ADDED, Reason=Killing, Age=2023-07-05 02:22:38+00:00, From=kubelet, Message=Stopping container 20eef469-6535-48ca-a54b-ee6e48e920fb-auto-scale-0\n",
      "Event: Type=ADDED, Reason=Scheduled, Age=2023-07-05 02:15:38+00:00, From=default-scheduler, Message=Successfully assigned default/20eef469-6535-48ca-a54b-ee6e48e920fb-auto-scale-1 to bigdata2\n",
      "Event: Type=ADDED, Reason=Pulled, Age=2023-07-05 02:15:39+00:00, From=kubelet, Message=Container image \"nginx:1.7.9\" already present on machine\n",
      "Event: Type=ADDED, Reason=Created, Age=2023-07-05 02:15:39+00:00, From=kubelet, Message=Created container 20eef469-6535-48ca-a54b-ee6e48e920fb-auto-scale-1\n",
      "Event: Type=ADDED, Reason=Started, Age=2023-07-05 02:15:39+00:00, From=kubelet, Message=Started container 20eef469-6535-48ca-a54b-ee6e48e920fb-auto-scale-1\n",
      "Event: Type=ADDED, Reason=Killing, Age=2023-07-05 02:22:44+00:00, From=kubelet, Message=Stopping container 20eef469-6535-48ca-a54b-ee6e48e920fb-auto-scale-1\n",
      "Event: Type=ADDED, Reason=Scheduled, Age=2023-07-05 02:15:39+00:00, From=default-scheduler, Message=Successfully assigned default/20eef469-6535-48ca-a54b-ee6e48e920fb-auto-scale-2 to bigdata3\n",
      "Event: Type=ADDED, Reason=Pulled, Age=2023-07-05 02:15:40+00:00, From=kubelet, Message=Container image \"nginx:1.7.9\" already present on machine\n",
      "Event: Type=ADDED, Reason=Created, Age=2023-07-05 02:15:40+00:00, From=kubelet, Message=Created container 20eef469-6535-48ca-a54b-ee6e48e920fb-auto-scale-2\n",
      "Event: Type=ADDED, Reason=Started, Age=2023-07-05 02:15:40+00:00, From=kubelet, Message=Started container 20eef469-6535-48ca-a54b-ee6e48e920fb-auto-scale-2\n",
      "Event: Type=ADDED, Reason=Killing, Age=2023-07-05 02:22:47+00:00, From=kubelet, Message=Stopping container 20eef469-6535-48ca-a54b-ee6e48e920fb-auto-scale-2\n",
      "Event: Type=ADDED, Reason=Scheduled, Age=2023-07-05 02:15:42+00:00, From=default-scheduler, Message=Successfully assigned default/20eef469-6535-48ca-a54b-ee6e48e920fb-auto-scale-3 to bigdata3\n",
      "Event: Type=ADDED, Reason=Pulled, Age=2023-07-05 02:15:42+00:00, From=kubelet, Message=Container image \"nginx:1.7.9\" already present on machine\n",
      "Event: Type=ADDED, Reason=Created, Age=2023-07-05 02:15:43+00:00, From=kubelet, Message=Created container 20eef469-6535-48ca-a54b-ee6e48e920fb-auto-scale-3\n",
      "Event: Type=ADDED, Reason=Started, Age=2023-07-05 02:15:43+00:00, From=kubelet, Message=Started container 20eef469-6535-48ca-a54b-ee6e48e920fb-auto-scale-3\n",
      "Event: Type=ADDED, Reason=Killing, Age=2023-07-05 02:22:51+00:00, From=kubelet, Message=Stopping container 20eef469-6535-48ca-a54b-ee6e48e920fb-auto-scale-3\n",
      "Event: Type=ADDED, Reason=Scheduled, Age=2023-07-05 02:16:03+00:00, From=default-scheduler, Message=Successfully assigned default/20eef469-6535-48ca-a54b-ee6e48e920fb-auto-scale-4 to bigdata4\n",
      "Event: Type=ADDED, Reason=Pulled, Age=2023-07-05 02:16:03+00:00, From=kubelet, Message=Container image \"nginx:1.7.9\" already present on machine\n",
      "Event: Type=ADDED, Reason=Created, Age=2023-07-05 02:16:03+00:00, From=kubelet, Message=Created container 20eef469-6535-48ca-a54b-ee6e48e920fb-auto-scale-4\n",
      "Event: Type=ADDED, Reason=Started, Age=2023-07-05 02:16:04+00:00, From=kubelet, Message=Started container 20eef469-6535-48ca-a54b-ee6e48e920fb-auto-scale-4\n",
      "Event: Type=ADDED, Reason=Killing, Age=2023-07-05 02:22:56+00:00, From=kubelet, Message=Stopping container 20eef469-6535-48ca-a54b-ee6e48e920fb-auto-scale-4\n",
      "Event: Type=ADDED, Reason=Scheduled, Age=2023-07-05 02:25:47+00:00, From=default-scheduler, Message=Successfully assigned default/36821b23-3b1a-4104-9f5a-ddcb97f8bcad-auto-scale-0 to bigdata4\n",
      "Event: Type=ADDED, Reason=FailedMount, Age=2023-07-05 02:27:50+00:00, From=kubelet, Message=Unable to attach or mount volumes: unmounted volumes=[default-token-zkplr], unattached volumes=[default-token-zkplr]: timed out waiting for the condition\n",
      "Event: Type=ADDED, Reason=Scheduled, Age=2023-07-05 02:25:47+00:00, From=default-scheduler, Message=Successfully assigned default/36821b23-3b1a-4104-9f5a-ddcb97f8bcad-auto-scale-1 to bigdata3\n",
      "Event: Type=ADDED, Reason=FailedMount, Age=2023-07-05 02:27:50+00:00, From=kubelet, Message=Unable to attach or mount volumes: unmounted volumes=[default-token-zkplr], unattached volumes=[default-token-zkplr]: timed out waiting for the condition\n",
      "Event: Type=ADDED, Reason=Scheduled, Age=2023-07-05 02:23:34+00:00, From=default-scheduler, Message=Successfully assigned default/f7d6cedc-9830-4b38-9af1-0b58af977375-auto-scale-0 to bigdata3\n",
      "Event: Type=ADDED, Reason=Pulled, Age=2023-07-05 02:23:35+00:00, From=kubelet, Message=Container image \"nginx:1.7.9\" already present on machine\n",
      "Event: Type=ADDED, Reason=Created, Age=2023-07-05 02:23:35+00:00, From=kubelet, Message=Created container f7d6cedc-9830-4b38-9af1-0b58af977375-auto-scale-0\n",
      "Event: Type=ADDED, Reason=Started, Age=2023-07-05 02:23:35+00:00, From=kubelet, Message=Started container f7d6cedc-9830-4b38-9af1-0b58af977375-auto-scale-0\n",
      "Event: Type=ADDED, Reason=Killing, Age=2023-07-05 02:23:41+00:00, From=kubelet, Message=Stopping container f7d6cedc-9830-4b38-9af1-0b58af977375-auto-scale-0\n",
      "Event: Type=ADDED, Reason=Scheduled, Age=2023-07-05 02:23:34+00:00, From=default-scheduler, Message=Successfully assigned default/f7d6cedc-9830-4b38-9af1-0b58af977375-auto-scale-1 to bigdata4\n",
      "Event: Type=ADDED, Reason=Pulled, Age=2023-07-05 02:23:35+00:00, From=kubelet, Message=Container image \"nginx:1.7.9\" already present on machine\n",
      "Event: Type=ADDED, Reason=Created, Age=2023-07-05 02:23:35+00:00, From=kubelet, Message=Created container f7d6cedc-9830-4b38-9af1-0b58af977375-auto-scale-1\n",
      "Event: Type=ADDED, Reason=Started, Age=2023-07-05 02:23:35+00:00, From=kubelet, Message=Started container f7d6cedc-9830-4b38-9af1-0b58af977375-auto-scale-1\n",
      "Event: Type=ADDED, Reason=Killing, Age=2023-07-05 02:23:46+00:00, From=kubelet, Message=Stopping container f7d6cedc-9830-4b38-9af1-0b58af977375-auto-scale-1\n",
      "Event: Type=ADDED, Reason=Scheduled, Age=2023-07-05 02:32:38+00:00, From=default-scheduler, Message=Successfully assigned default/35da042c-794c-4985-a06f-d779f9088c0f-auto-scale-0 to bigdata3\n",
      "Event: Type=ADDED, Reason=Scheduled, Age=2023-07-05 02:32:38+00:00, From=default-scheduler, Message=Successfully assigned default/35da042c-794c-4985-a06f-d779f9088c0f-auto-scale-1 to bigdata2\n",
      "Event: Type=ADDED, Reason=Pulled, Age=2023-07-05 02:32:39+00:00, From=kubelet, Message=Container image \"nginx:1.7.9\" already present on machine\n",
      "Event: Type=ADDED, Reason=Created, Age=2023-07-05 02:32:39+00:00, From=kubelet, Message=Created container 35da042c-794c-4985-a06f-d779f9088c0f-auto-scale-1\n",
      "Event: Type=ADDED, Reason=Started, Age=2023-07-05 02:32:39+00:00, From=kubelet, Message=Started container 35da042c-794c-4985-a06f-d779f9088c0f-auto-scale-1\n"
     ]
    }
   ],
   "source": [
    "namespace = 'default'  # 指定命名空间\n",
    "# 创建事件监视器\n",
    "w = watch.Watch()\n",
    "\n",
    "# 处理观察到的事件\n",
    "for event in w.stream(core_v1.list_namespaced_event, namespace=namespace):\n",
    "    event_type = event['type']\n",
    "    reason = event['object'].reason\n",
    "    age = event['object'].metadata.creation_timestamp\n",
    "    event_from = event['object'].source.component\n",
    "    message = event['object'].message\n",
    "    print(f\"Event: Type={event_type}, Reason={reason}, Age={age}, From={event_from}, Message={message}\")"
   ],
   "metadata": {
    "collapsed": false,
    "pycharm": {
     "name": "#%%\n",
     "is_executing": true
    }
   }
  },
  {
   "cell_type": "code",
   "execution_count": null,
   "outputs": [],
   "source": [],
   "metadata": {
    "collapsed": false,
    "pycharm": {
     "name": "#%%\n"
    }
   }
  }
 ],
 "metadata": {
  "kernelspec": {
   "display_name": "Python 3",
   "language": "python",
   "name": "python3"
  },
  "language_info": {
   "codemirror_mode": {
    "name": "ipython",
    "version": 2
   },
   "file_extension": ".py",
   "mimetype": "text/x-python",
   "name": "python",
   "nbconvert_exporter": "python",
   "pygments_lexer": "ipython2",
   "version": "2.7.6"
  }
 },
 "nbformat": 4,
 "nbformat_minor": 0
}