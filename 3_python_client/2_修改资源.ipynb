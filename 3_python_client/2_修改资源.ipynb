{
 "cells": [
  {
   "cell_type": "code",
   "execution_count": 1,
   "outputs": [],
   "source": [
    "from kubernetes import client, config\n",
    "import uuid\n",
    "\n",
    "# 加载认证文件\n",
    "# config.kube_config.load_kube_config(\"minikube_config.yml\")\n",
    "config.kube_config.load_kube_config(\"config.yml\")\n",
    "#获取CoreV1Api、BatchV1Api、AppsV1Api、CustomObjectsApi\n",
    "core_v1 = client.CoreV1Api()  #用于操作核心v1 API组中的资源，如Pod、Service、Node、Namespace等\n",
    "batch_v1 = client.BatchV1Api()  #用于操作Job等资源\n",
    "apps_v1 = client.AppsV1Api()  #用于操作Deployment、DaemonSet、ReplicaSet和StatefulSet\n",
    "custom_api = client.CustomObjectsApi()  #用于操作CRD"
   ],
   "metadata": {
    "collapsed": false,
    "pycharm": {
     "name": "#%%\n"
    }
   }
  },
  {
   "cell_type": "code",
   "execution_count": 11,
   "outputs": [
    {
     "name": "stdout",
     "output_type": "stream",
     "text": [
      "{'api_version': None,\n",
      " 'kind': None,\n",
      " 'metadata': {'annotations': None,\n",
      "              'creation_timestamp': None,\n",
      "              'deletion_grace_period_seconds': None,\n",
      "              'deletion_timestamp': None,\n",
      "              'finalizers': None,\n",
      "              'generate_name': None,\n",
      "              'generation': None,\n",
      "              'labels': None,\n",
      "              'managed_fields': None,\n",
      "              'name': 'brody',\n",
      "              'namespace': None,\n",
      "              'owner_references': None,\n",
      "              'resource_version': None,\n",
      "              'self_link': None,\n",
      "              'uid': None},\n",
      " 'spec': None,\n",
      " 'status': None}\n"
     ]
    },
    {
     "data": {
      "text/plain": "{'api_version': 'v1',\n 'kind': 'Namespace',\n 'metadata': {'annotations': None,\n              'creation_timestamp': datetime.datetime(2023, 4, 20, 8, 0, 43, tzinfo=tzutc()),\n              'deletion_grace_period_seconds': None,\n              'deletion_timestamp': None,\n              'finalizers': None,\n              'generate_name': None,\n              'generation': None,\n              'labels': None,\n              'managed_fields': None,\n              'name': 'brody',\n              'namespace': None,\n              'owner_references': None,\n              'resource_version': '1997457',\n              'self_link': '/api/v1/namespaces/brody',\n              'uid': '9f9c9f9b-7687-4056-b5ad-1700a9bd4c29'},\n 'spec': {'finalizers': ['kubernetes']},\n 'status': {'conditions': None, 'phase': 'Active'}}"
     },
     "execution_count": 11,
     "metadata": {},
     "output_type": "execute_result"
    }
   ],
   "source": [
    "# 创建一个namespace\n",
    "new_namespace = client.V1Namespace()\n",
    "new_namespace.metadata = client.V1ObjectMeta(name=\"brody\")\n",
    "print(new_namespace)\n",
    "core_v1.create_namespace(body=new_namespace)"
   ],
   "metadata": {
    "collapsed": false,
    "pycharm": {
     "name": "#%%\n"
    }
   }
  },
  {
   "cell_type": "code",
   "execution_count": 12,
   "outputs": [
    {
     "data": {
      "text/plain": "{'api_version': 'v1',\n 'code': None,\n 'details': None,\n 'kind': 'Namespace',\n 'message': None,\n 'metadata': {'_continue': None,\n              'remaining_item_count': None,\n              'resource_version': '1998166',\n              'self_link': '/api/v1/namespaces/brody'},\n 'reason': None,\n 'status': \"{'phase': 'Terminating'}\"}"
     },
     "execution_count": 12,
     "metadata": {},
     "output_type": "execute_result"
    }
   ],
   "source": [
    "# 删除一个namespace\n",
    "core_v1.delete_namespace(\"brody\")"
   ],
   "metadata": {
    "collapsed": false,
    "pycharm": {
     "name": "#%%\n"
    }
   }
  },
  {
   "cell_type": "code",
   "execution_count": 13,
   "outputs": [
    {
     "data": {
      "text/plain": "{'api_version': 'v1',\n 'kind': 'Pod',\n 'metadata': {'annotations': None,\n              'creation_timestamp': datetime.datetime(2023, 4, 20, 8, 8, 39, tzinfo=tzutc()),\n              'deletion_grace_period_seconds': None,\n              'deletion_timestamp': None,\n              'finalizers': None,\n              'generate_name': None,\n              'generation': None,\n              'labels': {'app': 'nginx'},\n              'managed_fields': None,\n              'name': 'nginx-c0342ab9-e21d-4ca6-8d57-da5606efcebf',\n              'namespace': 'default',\n              'owner_references': None,\n              'resource_version': '1998660',\n              'self_link': '/api/v1/namespaces/default/pods/nginx-c0342ab9-e21d-4ca6-8d57-da5606efcebf',\n              'uid': '7a058dc8-15b1-4c29-b041-f606c369903e'},\n 'spec': {'active_deadline_seconds': None,\n          'affinity': None,\n          'automount_service_account_token': None,\n          'containers': [{'args': None,\n                          'command': None,\n                          'env': None,\n                          'env_from': None,\n                          'image': 'nginx:1.7.9',\n                          'image_pull_policy': 'IfNotPresent',\n                          'lifecycle': None,\n                          'liveness_probe': None,\n                          'name': 'my-container',\n                          'ports': [{'container_port': 80,\n                                     'host_ip': None,\n                                     'host_port': None,\n                                     'name': None,\n                                     'protocol': 'TCP'}],\n                          'readiness_probe': None,\n                          'resources': {'claims': None,\n                                        'limits': None,\n                                        'requests': None},\n                          'security_context': None,\n                          'startup_probe': None,\n                          'stdin': None,\n                          'stdin_once': None,\n                          'termination_message_path': '/dev/termination-log',\n                          'termination_message_policy': 'File',\n                          'tty': None,\n                          'volume_devices': None,\n                          'volume_mounts': [{'mount_path': '/var/run/secrets/kubernetes.io/serviceaccount',\n                                             'mount_propagation': None,\n                                             'name': 'default-token-zkplr',\n                                             'read_only': True,\n                                             'sub_path': None,\n                                             'sub_path_expr': None}],\n                          'working_dir': None}],\n          'dns_config': None,\n          'dns_policy': 'ClusterFirst',\n          'enable_service_links': True,\n          'ephemeral_containers': None,\n          'host_aliases': None,\n          'host_ipc': None,\n          'host_network': None,\n          'host_pid': None,\n          'host_users': None,\n          'hostname': None,\n          'image_pull_secrets': None,\n          'init_containers': None,\n          'node_name': None,\n          'node_selector': None,\n          'os': None,\n          'overhead': None,\n          'preemption_policy': None,\n          'priority': 0,\n          'priority_class_name': None,\n          'readiness_gates': None,\n          'resource_claims': None,\n          'restart_policy': 'Always',\n          'runtime_class_name': None,\n          'scheduler_name': 'default-scheduler',\n          'scheduling_gates': None,\n          'security_context': {'fs_group': None,\n                               'fs_group_change_policy': None,\n                               'run_as_group': None,\n                               'run_as_non_root': None,\n                               'run_as_user': None,\n                               'se_linux_options': None,\n                               'seccomp_profile': None,\n                               'supplemental_groups': None,\n                               'sysctls': None,\n                               'windows_options': None},\n          'service_account': 'default',\n          'service_account_name': 'default',\n          'set_hostname_as_fqdn': None,\n          'share_process_namespace': None,\n          'subdomain': None,\n          'termination_grace_period_seconds': 30,\n          'tolerations': [{'effect': 'NoExecute',\n                           'key': 'node.kubernetes.io/not-ready',\n                           'operator': 'Exists',\n                           'toleration_seconds': 300,\n                           'value': None},\n                          {'effect': 'NoExecute',\n                           'key': 'node.kubernetes.io/unreachable',\n                           'operator': 'Exists',\n                           'toleration_seconds': 300,\n                           'value': None}],\n          'topology_spread_constraints': None,\n          'volumes': [{'aws_elastic_block_store': None,\n                       'azure_disk': None,\n                       'azure_file': None,\n                       'cephfs': None,\n                       'cinder': None,\n                       'config_map': None,\n                       'csi': None,\n                       'downward_api': None,\n                       'empty_dir': None,\n                       'ephemeral': None,\n                       'fc': None,\n                       'flex_volume': None,\n                       'flocker': None,\n                       'gce_persistent_disk': None,\n                       'git_repo': None,\n                       'glusterfs': None,\n                       'host_path': None,\n                       'iscsi': None,\n                       'name': 'default-token-zkplr',\n                       'nfs': None,\n                       'persistent_volume_claim': None,\n                       'photon_persistent_disk': None,\n                       'portworx_volume': None,\n                       'projected': None,\n                       'quobyte': None,\n                       'rbd': None,\n                       'scale_io': None,\n                       'secret': {'default_mode': 420,\n                                  'items': None,\n                                  'optional': None,\n                                  'secret_name': 'default-token-zkplr'},\n                       'storageos': None,\n                       'vsphere_volume': None}]},\n 'status': {'conditions': None,\n            'container_statuses': None,\n            'ephemeral_container_statuses': None,\n            'host_ip': None,\n            'init_container_statuses': None,\n            'message': None,\n            'nominated_node_name': None,\n            'phase': 'Pending',\n            'pod_i_ps': None,\n            'pod_ip': None,\n            'qos_class': 'BestEffort',\n            'reason': None,\n            'start_time': None}}"
     },
     "execution_count": 13,
     "metadata": {},
     "output_type": "execute_result"
    }
   ],
   "source": [
    "# 创建pod\n",
    "nginx_pod = {\n",
    "    'apiVersion': 'v1',\n",
    "    'kind': 'Pod',\n",
    "    'metadata': {\n",
    "        'name': 'nginx-{}'.format(uuid.uuid4()),\n",
    "        'labels': {\n",
    "            \"app\": \"nginx\"\n",
    "        }\n",
    "    },\n",
    "    'spec': {\n",
    "        'containers': [\n",
    "            {\n",
    "                'name': 'my-container',\n",
    "                'image': 'nginx:1.7.9',\n",
    "                \"ports\": [\n",
    "                    {\n",
    "                        \"containerPort\": 80\n",
    "                    }\n",
    "                ]\n",
    "            }\n",
    "        ],\n",
    "        #指定调度节点\n",
    "        # 'nodeSelector': {\n",
    "        #     'kubernetes.io/hostname': 'bigdata4'\n",
    "        # }\n",
    "    }\n",
    "}\n",
    "\"\"\"\n",
    "# 标记node\n",
    "kubectl label nodes <node-name> <label-key>=<label-value>\n",
    "# 展现node的label\n",
    "kubectl get nodes --show-labels\n",
    "# 描述node结构\n",
    "kubectl describe node \"nodename\"\n",
    "\"\"\"\n",
    "core_v1.create_namespaced_pod(body=nginx_pod, namespace=\"default\")"
   ],
   "metadata": {
    "collapsed": false,
    "pycharm": {
     "name": "#%%\n"
    }
   }
  },
  {
   "cell_type": "code",
   "execution_count": null,
   "outputs": [],
   "source": [
    "# 用客户端来描述pod\n",
    "# 配置meta信息\n",
    "pod_metadata = client.V1ObjectMeta(\n",
    "    name=\"my-pod\",\n",
    "    labels={\n",
    "        \"app\": \"my-app\",\n",
    "        \"env\": \"production\",\n",
    "        \"team\": \"devops\"\n",
    "    },\n",
    "    annotations={\n",
    "        \"key\":\"value\"\n",
    "    }\n",
    ")\n",
    "# 配置Container信息\n",
    "container = client.V1Container(name=\"my-container\", image=\"nginx:latest\")\n",
    "# 配置spec信息\n",
    "pod_spec = client.V1PodSpec(containers=[container])\n",
    "# 组合成完整pod信息\n",
    "pod = client.V1Pod(metadata=pod_metadata, spec=pod_spec)\n",
    "core_v1.create_namespaced_pod(body=pod, namespace=\"default\")"
   ],
   "metadata": {
    "collapsed": false,
    "pycharm": {
     "name": "#%%\n"
    }
   }
  },
  {
   "cell_type": "code",
   "execution_count": 19,
   "outputs": [
    {
     "data": {
      "text/plain": "{'api_version': 'v1',\n 'kind': 'Pod',\n 'metadata': {'annotations': {'cni.projectcalico.org/podIP': '10.244.103.73/32',\n                              'cni.projectcalico.org/podIPs': '10.244.103.73/32'},\n              'creation_timestamp': datetime.datetime(2023, 4, 20, 8, 8, 39, tzinfo=tzutc()),\n              'deletion_grace_period_seconds': None,\n              'deletion_timestamp': None,\n              'finalizers': None,\n              'generate_name': None,\n              'generation': None,\n              'labels': {'app': 'nginx'},\n              'managed_fields': None,\n              'name': 'nginx-c0342ab9-e21d-4ca6-8d57-da5606efcebf',\n              'namespace': 'default',\n              'owner_references': None,\n              'resource_version': '2000392',\n              'self_link': '/api/v1/namespaces/default/pods/nginx-c0342ab9-e21d-4ca6-8d57-da5606efcebf',\n              'uid': '7a058dc8-15b1-4c29-b041-f606c369903e'},\n 'spec': {'active_deadline_seconds': None,\n          'affinity': None,\n          'automount_service_account_token': None,\n          'containers': [{'args': None,\n                          'command': None,\n                          'env': None,\n                          'env_from': None,\n                          'image': 'nginx:1.7.9',\n                          'image_pull_policy': 'IfNotPresent',\n                          'lifecycle': None,\n                          'liveness_probe': None,\n                          'name': 'my-container',\n                          'ports': [{'container_port': 80,\n                                     'host_ip': None,\n                                     'host_port': None,\n                                     'name': None,\n                                     'protocol': 'TCP'}],\n                          'readiness_probe': None,\n                          'resources': {'claims': None,\n                                        'limits': None,\n                                        'requests': None},\n                          'security_context': None,\n                          'startup_probe': None,\n                          'stdin': None,\n                          'stdin_once': None,\n                          'termination_message_path': '/dev/termination-log',\n                          'termination_message_policy': 'File',\n                          'tty': None,\n                          'volume_devices': None,\n                          'volume_mounts': [{'mount_path': '/var/run/secrets/kubernetes.io/serviceaccount',\n                                             'mount_propagation': None,\n                                             'name': 'default-token-zkplr',\n                                             'read_only': True,\n                                             'sub_path': None,\n                                             'sub_path_expr': None}],\n                          'working_dir': None}],\n          'dns_config': None,\n          'dns_policy': 'ClusterFirst',\n          'enable_service_links': True,\n          'ephemeral_containers': None,\n          'host_aliases': None,\n          'host_ipc': None,\n          'host_network': None,\n          'host_pid': None,\n          'host_users': None,\n          'hostname': None,\n          'image_pull_secrets': None,\n          'init_containers': None,\n          'node_name': 'bigdata3',\n          'node_selector': None,\n          'os': None,\n          'overhead': None,\n          'preemption_policy': None,\n          'priority': 0,\n          'priority_class_name': None,\n          'readiness_gates': None,\n          'resource_claims': None,\n          'restart_policy': 'Always',\n          'runtime_class_name': None,\n          'scheduler_name': 'default-scheduler',\n          'scheduling_gates': None,\n          'security_context': {'fs_group': None,\n                               'fs_group_change_policy': None,\n                               'run_as_group': None,\n                               'run_as_non_root': None,\n                               'run_as_user': None,\n                               'se_linux_options': None,\n                               'seccomp_profile': None,\n                               'supplemental_groups': None,\n                               'sysctls': None,\n                               'windows_options': None},\n          'service_account': 'default',\n          'service_account_name': 'default',\n          'set_hostname_as_fqdn': None,\n          'share_process_namespace': None,\n          'subdomain': None,\n          'termination_grace_period_seconds': 30,\n          'tolerations': [{'effect': 'NoExecute',\n                           'key': 'node.kubernetes.io/not-ready',\n                           'operator': 'Exists',\n                           'toleration_seconds': 300,\n                           'value': None},\n                          {'effect': 'NoExecute',\n                           'key': 'node.kubernetes.io/unreachable',\n                           'operator': 'Exists',\n                           'toleration_seconds': 300,\n                           'value': None}],\n          'topology_spread_constraints': None,\n          'volumes': [{'aws_elastic_block_store': None,\n                       'azure_disk': None,\n                       'azure_file': None,\n                       'cephfs': None,\n                       'cinder': None,\n                       'config_map': None,\n                       'csi': None,\n                       'downward_api': None,\n                       'empty_dir': None,\n                       'ephemeral': None,\n                       'fc': None,\n                       'flex_volume': None,\n                       'flocker': None,\n                       'gce_persistent_disk': None,\n                       'git_repo': None,\n                       'glusterfs': None,\n                       'host_path': None,\n                       'iscsi': None,\n                       'name': 'default-token-zkplr',\n                       'nfs': None,\n                       'persistent_volume_claim': None,\n                       'photon_persistent_disk': None,\n                       'portworx_volume': None,\n                       'projected': None,\n                       'quobyte': None,\n                       'rbd': None,\n                       'scale_io': None,\n                       'secret': {'default_mode': 420,\n                                  'items': None,\n                                  'optional': None,\n                                  'secret_name': 'default-token-zkplr'},\n                       'storageos': None,\n                       'vsphere_volume': None}]},\n 'status': {'conditions': [{'last_probe_time': None,\n                            'last_transition_time': datetime.datetime(2023, 4, 20, 8, 8, 39, tzinfo=tzutc()),\n                            'message': None,\n                            'reason': None,\n                            'status': 'True',\n                            'type': 'Initialized'},\n                           {'last_probe_time': None,\n                            'last_transition_time': datetime.datetime(2023, 4, 20, 8, 9, 5, tzinfo=tzutc()),\n                            'message': None,\n                            'reason': None,\n                            'status': 'True',\n                            'type': 'Ready'},\n                           {'last_probe_time': None,\n                            'last_transition_time': datetime.datetime(2023, 4, 20, 8, 9, 5, tzinfo=tzutc()),\n                            'message': None,\n                            'reason': None,\n                            'status': 'True',\n                            'type': 'ContainersReady'},\n                           {'last_probe_time': None,\n                            'last_transition_time': datetime.datetime(2023, 4, 20, 8, 8, 39, tzinfo=tzutc()),\n                            'message': None,\n                            'reason': None,\n                            'status': 'True',\n                            'type': 'PodScheduled'}],\n            'container_statuses': [{'container_id': 'docker://79364c0e57d158c76c6e6a741ab09a35100b1a2b11f76097502d5195d4917021',\n                                    'image': 'nginx:1.22.1',\n                                    'image_id': 'docker-pullable://nginx@sha256:fc5f5fb7574755c306aaf88456ebfbe0b006420a184d52b923d2f0197108f6b7',\n                                    'last_state': {'running': None,\n                                                   'terminated': {'container_id': 'docker://198c733c1f7c670cdd714f0038c9ae10e11883037849c69aab24e3da3ac2d1b5',\n                                                                  'exit_code': 0,\n                                                                  'finished_at': datetime.datetime(2023, 4, 20, 8, 10, 7, tzinfo=tzutc()),\n                                                                  'message': None,\n                                                                  'reason': 'Completed',\n                                                                  'signal': None,\n                                                                  'started_at': datetime.datetime(2023, 4, 20, 8, 9, 4, tzinfo=tzutc())},\n                                                   'waiting': None},\n                                    'name': 'my-container',\n                                    'ready': True,\n                                    'restart_count': 1,\n                                    'started': True,\n                                    'state': {'running': {'started_at': datetime.datetime(2023, 4, 20, 8, 10, 40, tzinfo=tzutc())},\n                                              'terminated': None,\n                                              'waiting': None}}],\n            'ephemeral_container_statuses': None,\n            'host_ip': '192.168.0.67',\n            'init_container_statuses': None,\n            'message': None,\n            'nominated_node_name': None,\n            'phase': 'Running',\n            'pod_i_ps': [{'ip': '10.244.103.73'}],\n            'pod_ip': '10.244.103.73',\n            'qos_class': 'BestEffort',\n            'reason': None,\n            'start_time': datetime.datetime(2023, 4, 20, 8, 8, 39, tzinfo=tzutc())}}"
     },
     "execution_count": 19,
     "metadata": {},
     "output_type": "execute_result"
    }
   ],
   "source": [
    "# 更新pod之replace与patch\n",
    "\"\"\"\n",
    "core_v1.replace和 core_v1.patch是 Kubernetes Python client 提供的两种方法，用于更新 Kubernetes API 对象。它们之间的主要区别如下：\n",
    "core_v1.replace 方法是用新的对象替换现有对象，而 core_v1.patch 方法是修改现有对象的一部分。\n",
    "core_v1.replace 方法需要提供完整的对象规范，而 core_v1.patch 方法只需要提供要更新的字段。\n",
    "core_v1.replace 方法会在 Kubernetes 中创建一个新的版本（version）的对象，而 core_v1.patch 方法只是在现有对象上进行修改。\n",
    "\"\"\"\n",
    "# 使用patch\n",
    "patch = [\n",
    "    {\"op\": \"replace\", \"path\": \"/spec/containers/0/image\", \"value\": \"nginx:1.22.1\"}\n",
    "]\n",
    "# 使用 patch_namespaced_pod 方法更新 Pod\n",
    "core_v1.patch_namespaced_pod(\n",
    "    name=\"nginx-c0342ab9-e21d-4ca6-8d57-da5606efcebf\",\n",
    "    namespace=\"default\",\n",
    "    body=patch\n",
    ")"
   ],
   "metadata": {
    "collapsed": false,
    "pycharm": {
     "name": "#%%\n"
    }
   }
  },
  {
   "cell_type": "code",
   "execution_count": 20,
   "outputs": [
    {
     "data": {
      "text/plain": "{'api_version': 'v1',\n 'kind': 'Pod',\n 'metadata': {'annotations': {'cni.projectcalico.org/podIP': '10.244.103.73/32',\n                              'cni.projectcalico.org/podIPs': '10.244.103.73/32'},\n              'creation_timestamp': datetime.datetime(2023, 4, 20, 8, 8, 39, tzinfo=tzutc()),\n              'deletion_grace_period_seconds': 30,\n              'deletion_timestamp': datetime.datetime(2023, 4, 20, 8, 21, 13, tzinfo=tzutc()),\n              'finalizers': None,\n              'generate_name': None,\n              'generation': None,\n              'labels': {'app': 'nginx'},\n              'managed_fields': None,\n              'name': 'nginx-c0342ab9-e21d-4ca6-8d57-da5606efcebf',\n              'namespace': 'default',\n              'owner_references': None,\n              'resource_version': '2000499',\n              'self_link': '/api/v1/namespaces/default/pods/nginx-c0342ab9-e21d-4ca6-8d57-da5606efcebf',\n              'uid': '7a058dc8-15b1-4c29-b041-f606c369903e'},\n 'spec': {'active_deadline_seconds': None,\n          'affinity': None,\n          'automount_service_account_token': None,\n          'containers': [{'args': None,\n                          'command': None,\n                          'env': None,\n                          'env_from': None,\n                          'image': 'nginx:1.7.9',\n                          'image_pull_policy': 'IfNotPresent',\n                          'lifecycle': None,\n                          'liveness_probe': None,\n                          'name': 'my-container',\n                          'ports': [{'container_port': 80,\n                                     'host_ip': None,\n                                     'host_port': None,\n                                     'name': None,\n                                     'protocol': 'TCP'}],\n                          'readiness_probe': None,\n                          'resources': {'claims': None,\n                                        'limits': None,\n                                        'requests': None},\n                          'security_context': None,\n                          'startup_probe': None,\n                          'stdin': None,\n                          'stdin_once': None,\n                          'termination_message_path': '/dev/termination-log',\n                          'termination_message_policy': 'File',\n                          'tty': None,\n                          'volume_devices': None,\n                          'volume_mounts': [{'mount_path': '/var/run/secrets/kubernetes.io/serviceaccount',\n                                             'mount_propagation': None,\n                                             'name': 'default-token-zkplr',\n                                             'read_only': True,\n                                             'sub_path': None,\n                                             'sub_path_expr': None}],\n                          'working_dir': None}],\n          'dns_config': None,\n          'dns_policy': 'ClusterFirst',\n          'enable_service_links': True,\n          'ephemeral_containers': None,\n          'host_aliases': None,\n          'host_ipc': None,\n          'host_network': None,\n          'host_pid': None,\n          'host_users': None,\n          'hostname': None,\n          'image_pull_secrets': None,\n          'init_containers': None,\n          'node_name': 'bigdata3',\n          'node_selector': None,\n          'os': None,\n          'overhead': None,\n          'preemption_policy': None,\n          'priority': 0,\n          'priority_class_name': None,\n          'readiness_gates': None,\n          'resource_claims': None,\n          'restart_policy': 'Always',\n          'runtime_class_name': None,\n          'scheduler_name': 'default-scheduler',\n          'scheduling_gates': None,\n          'security_context': {'fs_group': None,\n                               'fs_group_change_policy': None,\n                               'run_as_group': None,\n                               'run_as_non_root': None,\n                               'run_as_user': None,\n                               'se_linux_options': None,\n                               'seccomp_profile': None,\n                               'supplemental_groups': None,\n                               'sysctls': None,\n                               'windows_options': None},\n          'service_account': 'default',\n          'service_account_name': 'default',\n          'set_hostname_as_fqdn': None,\n          'share_process_namespace': None,\n          'subdomain': None,\n          'termination_grace_period_seconds': 30,\n          'tolerations': [{'effect': 'NoExecute',\n                           'key': 'node.kubernetes.io/not-ready',\n                           'operator': 'Exists',\n                           'toleration_seconds': 300,\n                           'value': None},\n                          {'effect': 'NoExecute',\n                           'key': 'node.kubernetes.io/unreachable',\n                           'operator': 'Exists',\n                           'toleration_seconds': 300,\n                           'value': None}],\n          'topology_spread_constraints': None,\n          'volumes': [{'aws_elastic_block_store': None,\n                       'azure_disk': None,\n                       'azure_file': None,\n                       'cephfs': None,\n                       'cinder': None,\n                       'config_map': None,\n                       'csi': None,\n                       'downward_api': None,\n                       'empty_dir': None,\n                       'ephemeral': None,\n                       'fc': None,\n                       'flex_volume': None,\n                       'flocker': None,\n                       'gce_persistent_disk': None,\n                       'git_repo': None,\n                       'glusterfs': None,\n                       'host_path': None,\n                       'iscsi': None,\n                       'name': 'default-token-zkplr',\n                       'nfs': None,\n                       'persistent_volume_claim': None,\n                       'photon_persistent_disk': None,\n                       'portworx_volume': None,\n                       'projected': None,\n                       'quobyte': None,\n                       'rbd': None,\n                       'scale_io': None,\n                       'secret': {'default_mode': 420,\n                                  'items': None,\n                                  'optional': None,\n                                  'secret_name': 'default-token-zkplr'},\n                       'storageos': None,\n                       'vsphere_volume': None}]},\n 'status': {'conditions': [{'last_probe_time': None,\n                            'last_transition_time': datetime.datetime(2023, 4, 20, 8, 8, 39, tzinfo=tzutc()),\n                            'message': None,\n                            'reason': None,\n                            'status': 'True',\n                            'type': 'Initialized'},\n                           {'last_probe_time': None,\n                            'last_transition_time': datetime.datetime(2023, 4, 20, 8, 9, 5, tzinfo=tzutc()),\n                            'message': None,\n                            'reason': None,\n                            'status': 'True',\n                            'type': 'Ready'},\n                           {'last_probe_time': None,\n                            'last_transition_time': datetime.datetime(2023, 4, 20, 8, 9, 5, tzinfo=tzutc()),\n                            'message': None,\n                            'reason': None,\n                            'status': 'True',\n                            'type': 'ContainersReady'},\n                           {'last_probe_time': None,\n                            'last_transition_time': datetime.datetime(2023, 4, 20, 8, 8, 39, tzinfo=tzutc()),\n                            'message': None,\n                            'reason': None,\n                            'status': 'True',\n                            'type': 'PodScheduled'}],\n            'container_statuses': [{'container_id': 'docker://fd56f745427273982e597ba1168a5b53abeb2d996f757c8828854b11190c4999',\n                                    'image': 'nginx:1.7.9',\n                                    'image_id': 'docker-pullable://nginx@sha256:e3456c851a152494c3e4ff5fcc26f240206abac0c9d794affb40e0714846c451',\n                                    'last_state': {'running': None,\n                                                   'terminated': {'container_id': 'docker://79364c0e57d158c76c6e6a741ab09a35100b1a2b11f76097502d5195d4917021',\n                                                                  'exit_code': 0,\n                                                                  'finished_at': datetime.datetime(2023, 4, 20, 8, 20, 2, tzinfo=tzutc()),\n                                                                  'message': None,\n                                                                  'reason': 'Completed',\n                                                                  'signal': None,\n                                                                  'started_at': datetime.datetime(2023, 4, 20, 8, 10, 40, tzinfo=tzutc())},\n                                                   'waiting': None},\n                                    'name': 'my-container',\n                                    'ready': True,\n                                    'restart_count': 2,\n                                    'started': True,\n                                    'state': {'running': {'started_at': datetime.datetime(2023, 4, 20, 8, 20, 2, tzinfo=tzutc())},\n                                              'terminated': None,\n                                              'waiting': None}}],\n            'ephemeral_container_statuses': None,\n            'host_ip': '192.168.0.67',\n            'init_container_statuses': None,\n            'message': None,\n            'nominated_node_name': None,\n            'phase': 'Running',\n            'pod_i_ps': [{'ip': '10.244.103.73'}],\n            'pod_ip': '10.244.103.73',\n            'qos_class': 'BestEffort',\n            'reason': None,\n            'start_time': datetime.datetime(2023, 4, 20, 8, 8, 39, tzinfo=tzutc())}}"
     },
     "execution_count": 20,
     "metadata": {},
     "output_type": "execute_result"
    }
   ],
   "source": [
    "# 删除pod\n",
    "core_v1.delete_namespaced_pod(\"nginx-c0342ab9-e21d-4ca6-8d57-da5606efcebf\", namespace=\"default\")"
   ],
   "metadata": {
    "collapsed": false,
    "pycharm": {
     "name": "#%%\n"
    }
   }
  },
  {
   "cell_type": "code",
   "execution_count": 2,
   "outputs": [
    {
     "data": {
      "text/plain": "{'api_version': 'apps/v1',\n 'kind': 'Deployment',\n 'metadata': {'annotations': None,\n              'creation_timestamp': datetime.datetime(2023, 4, 12, 3, 0, 30, tzinfo=tzutc()),\n              'deletion_grace_period_seconds': None,\n              'deletion_timestamp': None,\n              'finalizers': None,\n              'generate_name': None,\n              'generation': 1,\n              'labels': None,\n              'managed_fields': [{'api_version': 'apps/v1',\n                                  'fields_type': 'FieldsV1',\n                                  'fields_v1': {'f:spec': {'f:progressDeadlineSeconds': {},\n                                                           'f:replicas': {},\n                                                           'f:revisionHistoryLimit': {},\n                                                           'f:selector': {},\n                                                           'f:strategy': {'f:rollingUpdate': {'.': {},\n                                                                                              'f:maxSurge': {},\n                                                                                              'f:maxUnavailable': {}},\n                                                                          'f:type': {}},\n                                                           'f:template': {'f:metadata': {'f:labels': {'.': {},\n                                                                                                      'f:app': {}}},\n                                                                          'f:spec': {'f:containers': {'k:{\"name\":\"nginx\"}': {'.': {},\n                                                                                                                             'f:image': {},\n                                                                                                                             'f:imagePullPolicy': {},\n                                                                                                                             'f:name': {},\n                                                                                                                             'f:ports': {'.': {},\n                                                                                                                                         'k:{\"containerPort\":80,\"protocol\":\"TCP\"}': {'.': {},\n                                                                                                                                                                                     'f:containerPort': {},\n                                                                                                                                                                                     'f:protocol': {}}},\n                                                                                                                             'f:resources': {},\n                                                                                                                             'f:terminationMessagePath': {},\n                                                                                                                             'f:terminationMessagePolicy': {}}},\n                                                                                     'f:dnsPolicy': {},\n                                                                                     'f:restartPolicy': {},\n                                                                                     'f:schedulerName': {},\n                                                                                     'f:securityContext': {},\n                                                                                     'f:terminationGracePeriodSeconds': {}}}}},\n                                  'manager': 'OpenAPI-Generator',\n                                  'operation': 'Update',\n                                  'subresource': None,\n                                  'time': datetime.datetime(2023, 4, 12, 3, 0, 30, tzinfo=tzutc())}],\n              'name': 'nginx-deployment-python',\n              'namespace': 'default',\n              'owner_references': None,\n              'resource_version': '1453',\n              'self_link': None,\n              'uid': '246b57f2-0af1-4bd3-8d69-e53fab8f8307'},\n 'spec': {'min_ready_seconds': None,\n          'paused': None,\n          'progress_deadline_seconds': 600,\n          'replicas': 3,\n          'revision_history_limit': 10,\n          'selector': {'match_expressions': None,\n                       'match_labels': {'app': 'nginx'}},\n          'strategy': {'rolling_update': {'max_surge': '25%',\n                                          'max_unavailable': '25%'},\n                       'type': 'RollingUpdate'},\n          'template': {'metadata': {'annotations': None,\n                                    'creation_timestamp': None,\n                                    'deletion_grace_period_seconds': None,\n                                    'deletion_timestamp': None,\n                                    'finalizers': None,\n                                    'generate_name': None,\n                                    'generation': None,\n                                    'labels': {'app': 'nginx'},\n                                    'managed_fields': None,\n                                    'name': None,\n                                    'namespace': None,\n                                    'owner_references': None,\n                                    'resource_version': None,\n                                    'self_link': None,\n                                    'uid': None},\n                       'spec': {'active_deadline_seconds': None,\n                                'affinity': None,\n                                'automount_service_account_token': None,\n                                'containers': [{'args': None,\n                                                'command': None,\n                                                'env': None,\n                                                'env_from': None,\n                                                'image': 'nginx:1.7.9',\n                                                'image_pull_policy': 'IfNotPresent',\n                                                'lifecycle': None,\n                                                'liveness_probe': None,\n                                                'name': 'nginx',\n                                                'ports': [{'container_port': 80,\n                                                           'host_ip': None,\n                                                           'host_port': None,\n                                                           'name': None,\n                                                           'protocol': 'TCP'}],\n                                                'readiness_probe': None,\n                                                'resources': {'claims': None,\n                                                              'limits': None,\n                                                              'requests': None},\n                                                'security_context': None,\n                                                'startup_probe': None,\n                                                'stdin': None,\n                                                'stdin_once': None,\n                                                'termination_message_path': '/dev/termination-log',\n                                                'termination_message_policy': 'File',\n                                                'tty': None,\n                                                'volume_devices': None,\n                                                'volume_mounts': None,\n                                                'working_dir': None}],\n                                'dns_config': None,\n                                'dns_policy': 'ClusterFirst',\n                                'enable_service_links': None,\n                                'ephemeral_containers': None,\n                                'host_aliases': None,\n                                'host_ipc': None,\n                                'host_network': None,\n                                'host_pid': None,\n                                'host_users': None,\n                                'hostname': None,\n                                'image_pull_secrets': None,\n                                'init_containers': None,\n                                'node_name': None,\n                                'node_selector': None,\n                                'os': None,\n                                'overhead': None,\n                                'preemption_policy': None,\n                                'priority': None,\n                                'priority_class_name': None,\n                                'readiness_gates': None,\n                                'resource_claims': None,\n                                'restart_policy': 'Always',\n                                'runtime_class_name': None,\n                                'scheduler_name': 'default-scheduler',\n                                'scheduling_gates': None,\n                                'security_context': {'fs_group': None,\n                                                     'fs_group_change_policy': None,\n                                                     'run_as_group': None,\n                                                     'run_as_non_root': None,\n                                                     'run_as_user': None,\n                                                     'se_linux_options': None,\n                                                     'seccomp_profile': None,\n                                                     'supplemental_groups': None,\n                                                     'sysctls': None,\n                                                     'windows_options': None},\n                                'service_account': None,\n                                'service_account_name': None,\n                                'set_hostname_as_fqdn': None,\n                                'share_process_namespace': None,\n                                'subdomain': None,\n                                'termination_grace_period_seconds': 30,\n                                'tolerations': None,\n                                'topology_spread_constraints': None,\n                                'volumes': None}}},\n 'status': {'available_replicas': None,\n            'collision_count': None,\n            'conditions': None,\n            'observed_generation': None,\n            'ready_replicas': None,\n            'replicas': None,\n            'unavailable_replicas': None,\n            'updated_replicas': None}}"
     },
     "execution_count": 2,
     "metadata": {},
     "output_type": "execute_result"
    }
   ],
   "source": [
    "# 创建deployment\n",
    "nginx_deploy = {\n",
    "    'apiVersion': 'apps/v1',\n",
    "    'kind': 'Deployment',\n",
    "    'metadata': {\n",
    "        'name': 'nginx-deployment-python',\n",
    "    },\n",
    "    'spec': {\n",
    "        'selector': {\n",
    "            \"matchLabels\": {\n",
    "                \"app\": \"nginx\"\n",
    "            }\n",
    "        },\n",
    "        \"replicas\": 3,\n",
    "        \"template\": {\n",
    "            \"metadata\": {\n",
    "                \"labels\": {\n",
    "                    \"app\": \"nginx\"\n",
    "                }\n",
    "            },\n",
    "            'spec': {\n",
    "                'containers': [\n",
    "                    {\n",
    "                        'name': 'nginx',\n",
    "                        'image': 'nginx:1.7.9',\n",
    "                        \"ports\": [\n",
    "                            {\n",
    "                                \"containerPort\": 80\n",
    "                            }\n",
    "                        ]\n",
    "                    }\n",
    "                ]\n",
    "            }\n",
    "        }\n",
    "    }\n",
    "}\n",
    "apps_v1.create_namespaced_deployment(namespace=\"default\", body=nginx_deploy)"
   ],
   "metadata": {
    "collapsed": false,
    "pycharm": {
     "name": "#%%\n"
    }
   }
  },
  {
   "cell_type": "code",
   "execution_count": 5,
   "outputs": [
    {
     "data": {
      "text/plain": "{'api_version': 'v1',\n 'code': None,\n 'details': {'causes': None,\n             'group': 'apps',\n             'kind': 'deployments',\n             'name': 'nginx-deployment-python',\n             'retry_after_seconds': None,\n             'uid': '8e32bc9e-6c89-4ede-aa9c-45bdd635a313'},\n 'kind': 'Status',\n 'message': None,\n 'metadata': {'_continue': None,\n              'remaining_item_count': None,\n              'resource_version': None,\n              'self_link': None},\n 'reason': None,\n 'status': 'Success'}"
     },
     "execution_count": 5,
     "metadata": {},
     "output_type": "execute_result"
    }
   ],
   "source": [
    "# 删除Deploy\n",
    "apps_v1.delete_namespaced_deployment(namespace=\"default\", name=\"nginx-deployment-python\")"
   ],
   "metadata": {
    "collapsed": false,
    "pycharm": {
     "name": "#%%\n"
    }
   }
  },
  {
   "cell_type": "code",
   "execution_count": 2,
   "outputs": [
    {
     "data": {
      "text/plain": "{'apiVersion': 'stable.example.com/v1',\n 'kind': 'CronTab',\n 'metadata': {'creationTimestamp': '2023-04-20T08:34:21Z',\n  'generation': 1,\n  'name': 'crontab-python',\n  'namespace': 'default',\n  'resourceVersion': '2002556',\n  'selfLink': '/apis/stable.example.com/v1/namespaces/default/crontabs/crontab-python',\n  'uid': '5cf46903-d985-435b-9688-6a2890545b63'},\n 'spec': {'cronSpec': '* * * * */5', 'image': 'my-awesome-cron-image'}}"
     },
     "execution_count": 2,
     "metadata": {},
     "output_type": "execute_result"
    }
   ],
   "source": [
    "# 要求先在集群内创建好，crd\n",
    "# 创建一个CR实例\n",
    "group = \"stable.example.com\"\n",
    "version = \"v1\"\n",
    "plural = \"crontabs\"\n",
    "\n",
    "# 定义CR对象的元数据\n",
    "metadata = client.V1ObjectMeta(name=\"crontab-python\")\n",
    "\n",
    "# 定义CR对象的规格\n",
    "spec = {\n",
    "    \"cronSpec\": \"* * * * */5\",\n",
    "    \"image\": \"my-awesome-cron-image\"\n",
    "}\n",
    "\n",
    "# 创建CR对象\n",
    "crd_object = {\n",
    "    \"apiVersion\": f\"{group}/{version}\",\n",
    "    \"kind\": \"CronTab\",\n",
    "    \"metadata\": metadata,\n",
    "    \"spec\": spec\n",
    "}\n",
    "\n",
    "# 在\"default\"命名空间中创建CRD对象\n",
    "custom_api.create_namespaced_custom_object(\n",
    "    group=group,\n",
    "    version=version,\n",
    "    namespace=\"default\",\n",
    "    plural=plural,\n",
    "    body=crd_object\n",
    ")"
   ],
   "metadata": {
    "collapsed": false,
    "pycharm": {
     "name": "#%%\n"
    }
   }
  },
  {
   "cell_type": "code",
   "execution_count": 3,
   "outputs": [
    {
     "data": {
      "text/plain": "{'apiVersion': 'stable.example.com/v1',\n 'kind': 'CronTab',\n 'metadata': {'creationTimestamp': '2023-04-20T08:34:21Z',\n  'generation': 2,\n  'name': 'crontab-python',\n  'namespace': 'default',\n  'resourceVersion': '2002602',\n  'selfLink': '/apis/stable.example.com/v1/namespaces/default/crontabs/crontab-python',\n  'uid': '5cf46903-d985-435b-9688-6a2890545b63'},\n 'spec': {'cronSpec': '* * * * */10', 'image': 'my-bad-cron-image'}}"
     },
     "execution_count": 3,
     "metadata": {},
     "output_type": "execute_result"
    }
   ],
   "source": [
    "# 修改cr\n",
    "spec = {\n",
    "    \"cronSpec\": \"* * * * */10\",\n",
    "    \"image\": \"my-bad-cron-image\"\n",
    "}\n",
    "crd_object = {\n",
    "    \"apiVersion\": f\"{group}/{version}\",\n",
    "    \"kind\": \"CronTab\",\n",
    "    \"metadata\": metadata,\n",
    "    \"spec\": spec\n",
    "}\n",
    "custom_api.patch_namespaced_custom_object(group=group, version=version, namespace=\"default\", plural=plural,\n",
    "                                          name=\"crontab-python\", body=crd_object)"
   ],
   "metadata": {
    "collapsed": false,
    "pycharm": {
     "name": "#%%\n"
    }
   }
  },
  {
   "cell_type": "code",
   "execution_count": 4,
   "outputs": [
    {
     "data": {
      "text/plain": "{'kind': 'Status',\n 'apiVersion': 'v1',\n 'metadata': {},\n 'status': 'Success',\n 'details': {'name': 'crontab-python',\n  'group': 'stable.example.com',\n  'kind': 'crontabs',\n  'uid': '5cf46903-d985-435b-9688-6a2890545b63'}}"
     },
     "execution_count": 4,
     "metadata": {},
     "output_type": "execute_result"
    }
   ],
   "source": [
    "# 删除CR对象\n",
    "custom_api.delete_namespaced_custom_object(group=group, version=version, namespace=\"default\", plural=plural,\n",
    "                                           name=\"crontab-python\")"
   ],
   "metadata": {
    "collapsed": false,
    "pycharm": {
     "name": "#%%\n"
    }
   }
  },
  {
   "cell_type": "code",
   "execution_count": null,
   "outputs": [],
   "source": [],
   "metadata": {
    "collapsed": false,
    "pycharm": {
     "name": "#%%\n"
    }
   }
  }
 ],
 "metadata": {
  "kernelspec": {
   "display_name": "Python 3",
   "language": "python",
   "name": "python3"
  },
  "language_info": {
   "codemirror_mode": {
    "name": "ipython",
    "version": 2
   },
   "file_extension": ".py",
   "mimetype": "text/x-python",
   "name": "python",
   "nbconvert_exporter": "python",
   "pygments_lexer": "ipython2",
   "version": "2.7.6"
  }
 },
 "nbformat": 4,
 "nbformat_minor": 0
}