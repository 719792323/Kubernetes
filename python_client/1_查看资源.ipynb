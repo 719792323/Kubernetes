{
 "cells": [
  {
   "cell_type": "code",
   "execution_count": 3,
   "outputs": [],
   "source": [
    "# https://www.cnblogs.com/machangwei-8/p/15925358.html\n",
    "from kubernetes import client, config\n",
    "# 加载认证文件\n",
    "config.kube_config.load_kube_config(\"config.yml\")"
   ],
   "metadata": {
    "collapsed": false,
    "pycharm": {
     "name": "#%%\n"
    }
   }
  },
  {
   "cell_type": "code",
   "execution_count": null,
   "outputs": [],
   "source": [
    "#获取CoreV1Api和BatchV1Api版本对象\n",
    "api_instance = client.CoreV1Api()\n",
    "api_batch = client.BatchV1Api()"
   ],
   "metadata": {
    "collapsed": false,
    "pycharm": {
     "name": "#%%\n"
    }
   }
  },
  {
   "cell_type": "code",
   "execution_count": null,
   "outputs": [],
   "source": [
    "# 列出命名空间\n",
    "for ns in api_instance.list_namespace().items:\n",
    "    print(ns.metadata.name)"
   ],
   "metadata": {
    "collapsed": false,
    "pycharm": {
     "name": "#%%\n"
    }
   }
  },
  {
   "cell_type": "code",
   "execution_count": null,
   "outputs": [],
   "source": [
    "# 列出所有nodes\n",
    "for node in api_instance.list_node().items:\n",
    "    name = node.metadata.name\n",
    "    status = node.status.conditions[-1].type if node.status.conditions[-1].status == \"True\" else \"NotReady\"\n",
    "    ip = node.status.addresses[0].address\n",
    "    version = node.status.node_info.kubelet_version\n",
    "    os = node.status.node_info.os_image\n",
    "    print(\"name:{},status:{},ip:{},version:{},os:{}\".format(name, status, ip,version,os))"
   ],
   "metadata": {
    "collapsed": false,
    "pycharm": {
     "name": "#%%\n"
    }
   }
  },
  {
   "cell_type": "code",
   "execution_count": 36,
   "outputs": [
    {
     "name": "stdout",
     "output_type": "stream",
     "text": [
      "kubernetes\n",
      "10.96.0.1\n",
      "default\n",
      "[{'app_protocol': None,\n",
      " 'name': 'https',\n",
      " 'node_port': None,\n",
      " 'port': 443,\n",
      " 'protocol': 'TCP',\n",
      " 'target_port': 6443}]\n",
      "ClusterIP\n",
      "None\n",
      "kube-dns\n",
      "10.96.0.10\n",
      "kube-system\n",
      "[{'app_protocol': None,\n",
      " 'name': 'dns',\n",
      " 'node_port': None,\n",
      " 'port': 53,\n",
      " 'protocol': 'UDP',\n",
      " 'target_port': 53}, {'app_protocol': None,\n",
      " 'name': 'dns-tcp',\n",
      " 'node_port': None,\n",
      " 'port': 53,\n",
      " 'protocol': 'TCP',\n",
      " 'target_port': 53}, {'app_protocol': None,\n",
      " 'name': 'metrics',\n",
      " 'node_port': None,\n",
      " 'port': 9153,\n",
      " 'protocol': 'TCP',\n",
      " 'target_port': 9153}]\n",
      "ClusterIP\n",
      "{'k8s-app': 'kube-dns'}\n"
     ]
    }
   ],
   "source": [
    "# 列出所有service，对应命令：kubectl get service --all-namespaces -o wide\n",
    "for service in api_instance.list_service_for_all_namespaces().items:\n",
    "    print(service.metadata.name)\n",
    "    print(service.spec.cluster_ip)\n",
    "    print(service.metadata.namespace)\n",
    "    print(service.spec.ports)\n",
    "    print(service.spec.type)\n",
    "    print(service.spec.selector)"
   ],
   "metadata": {
    "collapsed": false,
    "pycharm": {
     "name": "#%%\n"
    }
   }
  },
  {
   "cell_type": "code",
   "execution_count": 41,
   "outputs": [
    {
     "name": "stdout",
     "output_type": "stream",
     "text": [
      "name:nginx-deployment-55fbd9fd6d-7p4m6,ip:10.244.191.198,ns:default\n",
      "name:nginx-deployment-55fbd9fd6d-cf5kt,ip:10.244.191.197,ns:default\n",
      "name:nginx-deployment-55fbd9fd6d-cqrsr,ip:10.244.34.134,ns:default\n",
      "name:nginx-deployment-55fbd9fd6d-p6nfk,ip:10.244.34.132,ns:default\n",
      "name:nginx-deployment-55fbd9fd6d-v2zq5,ip:10.244.34.133,ns:default\n"
     ]
    }
   ],
   "source": [
    "# 列出指定ns的pod\n",
    "for pod in api_instance.list_namespaced_pod(\"default\").items:\n",
    "    print(\"name:{},ip:{},ns:{}\".format(pod.metadata.name ,pod.status.pod_ip,pod.metadata.namespace))"
   ],
   "metadata": {
    "collapsed": false,
    "pycharm": {
     "name": "#%%\n"
    }
   }
  },
  {
   "cell_type": "code",
   "execution_count": null,
   "outputs": [],
   "source": [],
   "metadata": {
    "collapsed": false,
    "pycharm": {
     "name": "#%%\n"
    }
   }
  }
 ],
 "metadata": {
  "kernelspec": {
   "display_name": "Python 3",
   "language": "python",
   "name": "python3"
  },
  "language_info": {
   "codemirror_mode": {
    "name": "ipython",
    "version": 2
   },
   "file_extension": ".py",
   "mimetype": "text/x-python",
   "name": "python",
   "nbconvert_exporter": "python",
   "pygments_lexer": "ipython2",
   "version": "2.7.6"
  }
 },
 "nbformat": 4,
 "nbformat_minor": 0
}