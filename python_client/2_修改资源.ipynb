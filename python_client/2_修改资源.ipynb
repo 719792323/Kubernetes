{
 "cells": [
  {
   "cell_type": "code",
   "execution_count": 17,
   "outputs": [],
   "source": [
    "from kubernetes import client, config\n",
    "import uuid\n",
    "\n",
    "# 加载认证文件\n",
    "config.kube_config.load_kube_config(\"config.yml\")\n",
    "#获取CoreV1Api、BatchV1Api、AppsV1Api、CustomObjectsApi\n",
    "core_v1 = client.CoreV1Api()  #用于操作核心v1 API组中的资源，如Pod、Service、Node、Namespace等\n",
    "batch_v1 = client.BatchV1Api()  #用于操作Job等资源\n",
    "apps_v1 = client.AppsV1Api()  #用于操作Deployment、DaemonSet、ReplicaSet和StatefulSet\n",
    "custom_api = client.CustomObjectsApi()  #用于操作CRD"
   ],
   "metadata": {
    "collapsed": false,
    "pycharm": {
     "name": "#%%\n"
    }
   }
  },
  {
   "cell_type": "code",
   "execution_count": 12,
   "outputs": [
    {
     "data": {
      "text/plain": "{'api_version': 'v1',\n 'kind': 'Pod',\n 'metadata': {'annotations': None,\n              'creation_timestamp': datetime.datetime(2023, 4, 11, 7, 34, 57, tzinfo=tzutc()),\n              'deletion_grace_period_seconds': None,\n              'deletion_timestamp': None,\n              'finalizers': None,\n              'generate_name': None,\n              'generation': None,\n              'labels': {'app': 'nginx'},\n              'managed_fields': None,\n              'name': 'nginx-707a92bf-ee28-4961-9a51-e580525caf87',\n              'namespace': 'default',\n              'owner_references': None,\n              'resource_version': '41428',\n              'self_link': '/api/v1/namespaces/default/pods/nginx-707a92bf-ee28-4961-9a51-e580525caf87',\n              'uid': 'd9506caf-6d82-462f-8a72-874ede31186f'},\n 'spec': {'active_deadline_seconds': None,\n          'affinity': None,\n          'automount_service_account_token': None,\n          'containers': [{'args': None,\n                          'command': None,\n                          'env': None,\n                          'env_from': None,\n                          'image': 'nginx:1.7.9',\n                          'image_pull_policy': 'IfNotPresent',\n                          'lifecycle': None,\n                          'liveness_probe': None,\n                          'name': 'my-container',\n                          'ports': [{'container_port': 80,\n                                     'host_ip': None,\n                                     'host_port': None,\n                                     'name': None,\n                                     'protocol': 'TCP'}],\n                          'readiness_probe': None,\n                          'resources': {'claims': None,\n                                        'limits': None,\n                                        'requests': None},\n                          'security_context': None,\n                          'startup_probe': None,\n                          'stdin': None,\n                          'stdin_once': None,\n                          'termination_message_path': '/dev/termination-log',\n                          'termination_message_policy': 'File',\n                          'tty': None,\n                          'volume_devices': None,\n                          'volume_mounts': [{'mount_path': '/var/run/secrets/kubernetes.io/serviceaccount',\n                                             'mount_propagation': None,\n                                             'name': 'default-token-zkplr',\n                                             'read_only': True,\n                                             'sub_path': None,\n                                             'sub_path_expr': None}],\n                          'working_dir': None}],\n          'dns_config': None,\n          'dns_policy': 'ClusterFirst',\n          'enable_service_links': True,\n          'ephemeral_containers': None,\n          'host_aliases': None,\n          'host_ipc': None,\n          'host_network': None,\n          'host_pid': None,\n          'host_users': None,\n          'hostname': None,\n          'image_pull_secrets': None,\n          'init_containers': None,\n          'node_name': None,\n          'node_selector': {'kubernetes.io/hostname': 'bigdata4'},\n          'os': None,\n          'overhead': None,\n          'preemption_policy': None,\n          'priority': 0,\n          'priority_class_name': None,\n          'readiness_gates': None,\n          'resource_claims': None,\n          'restart_policy': 'Always',\n          'runtime_class_name': None,\n          'scheduler_name': 'default-scheduler',\n          'scheduling_gates': None,\n          'security_context': {'fs_group': None,\n                               'fs_group_change_policy': None,\n                               'run_as_group': None,\n                               'run_as_non_root': None,\n                               'run_as_user': None,\n                               'se_linux_options': None,\n                               'seccomp_profile': None,\n                               'supplemental_groups': None,\n                               'sysctls': None,\n                               'windows_options': None},\n          'service_account': 'default',\n          'service_account_name': 'default',\n          'set_hostname_as_fqdn': None,\n          'share_process_namespace': None,\n          'subdomain': None,\n          'termination_grace_period_seconds': 30,\n          'tolerations': [{'effect': 'NoExecute',\n                           'key': 'node.kubernetes.io/not-ready',\n                           'operator': 'Exists',\n                           'toleration_seconds': 300,\n                           'value': None},\n                          {'effect': 'NoExecute',\n                           'key': 'node.kubernetes.io/unreachable',\n                           'operator': 'Exists',\n                           'toleration_seconds': 300,\n                           'value': None}],\n          'topology_spread_constraints': None,\n          'volumes': [{'aws_elastic_block_store': None,\n                       'azure_disk': None,\n                       'azure_file': None,\n                       'cephfs': None,\n                       'cinder': None,\n                       'config_map': None,\n                       'csi': None,\n                       'downward_api': None,\n                       'empty_dir': None,\n                       'ephemeral': None,\n                       'fc': None,\n                       'flex_volume': None,\n                       'flocker': None,\n                       'gce_persistent_disk': None,\n                       'git_repo': None,\n                       'glusterfs': None,\n                       'host_path': None,\n                       'iscsi': None,\n                       'name': 'default-token-zkplr',\n                       'nfs': None,\n                       'persistent_volume_claim': None,\n                       'photon_persistent_disk': None,\n                       'portworx_volume': None,\n                       'projected': None,\n                       'quobyte': None,\n                       'rbd': None,\n                       'scale_io': None,\n                       'secret': {'default_mode': 420,\n                                  'items': None,\n                                  'optional': None,\n                                  'secret_name': 'default-token-zkplr'},\n                       'storageos': None,\n                       'vsphere_volume': None}]},\n 'status': {'conditions': None,\n            'container_statuses': None,\n            'ephemeral_container_statuses': None,\n            'host_ip': None,\n            'init_container_statuses': None,\n            'message': None,\n            'nominated_node_name': None,\n            'phase': 'Pending',\n            'pod_i_ps': None,\n            'pod_ip': None,\n            'qos_class': 'BestEffort',\n            'reason': None,\n            'start_time': None}}"
     },
     "execution_count": 12,
     "metadata": {},
     "output_type": "execute_result"
    }
   ],
   "source": [
    "# 创建pod\n",
    "nginx_pod = {\n",
    "    'apiVersion': 'v1',\n",
    "    'kind': 'Pod',\n",
    "    'metadata': {\n",
    "        'name': 'nginx-{}'.format(uuid.uuid4()),\n",
    "        'labels': {\n",
    "            \"app\": \"nginx\"\n",
    "        }\n",
    "    },\n",
    "    'spec': {\n",
    "        'containers': [\n",
    "            {\n",
    "                'name': 'my-container',\n",
    "                'image': 'nginx:1.7.9',\n",
    "                \"ports\": [\n",
    "                    {\n",
    "                        \"containerPort\": 80\n",
    "                    }\n",
    "                ]\n",
    "            }\n",
    "        ],\n",
    "        #指定调度节点\n",
    "        'nodeSelector': {\n",
    "            'kubernetes.io/hostname': 'bigdata4'\n",
    "        }\n",
    "    }\n",
    "}\n",
    "\"\"\"\n",
    "# 标记node\n",
    "kubectl label nodes <node-name> <label-key>=<label-value>\n",
    "# 展现node的label\n",
    "kubectl get nodes --show-labels\n",
    "# 描述node结构\n",
    "kubectl describe node \"nodename\"\n",
    "\"\"\"\n",
    "core_v1.create_namespaced_pod(body=nginx_pod, namespace=\"default\")"
   ],
   "metadata": {
    "collapsed": false,
    "pycharm": {
     "name": "#%%\n"
    }
   }
  },
  {
   "cell_type": "code",
   "execution_count": 13,
   "outputs": [
    {
     "data": {
      "text/plain": "{'api_version': 'v1',\n 'kind': 'Pod',\n 'metadata': {'annotations': {'cni.projectcalico.org/podIP': '10.244.191.200/32',\n                              'cni.projectcalico.org/podIPs': '10.244.191.200/32'},\n              'creation_timestamp': datetime.datetime(2023, 4, 11, 7, 34, 57, tzinfo=tzutc()),\n              'deletion_grace_period_seconds': 30,\n              'deletion_timestamp': datetime.datetime(2023, 4, 11, 7, 39, 35, tzinfo=tzutc()),\n              'finalizers': None,\n              'generate_name': None,\n              'generation': None,\n              'labels': {'app': 'nginx'},\n              'managed_fields': None,\n              'name': 'nginx-707a92bf-ee28-4961-9a51-e580525caf87',\n              'namespace': 'default',\n              'owner_references': None,\n              'resource_version': '42062',\n              'self_link': '/api/v1/namespaces/default/pods/nginx-707a92bf-ee28-4961-9a51-e580525caf87',\n              'uid': 'd9506caf-6d82-462f-8a72-874ede31186f'},\n 'spec': {'active_deadline_seconds': None,\n          'affinity': None,\n          'automount_service_account_token': None,\n          'containers': [{'args': None,\n                          'command': None,\n                          'env': None,\n                          'env_from': None,\n                          'image': 'nginx:1.7.9',\n                          'image_pull_policy': 'IfNotPresent',\n                          'lifecycle': None,\n                          'liveness_probe': None,\n                          'name': 'my-container',\n                          'ports': [{'container_port': 80,\n                                     'host_ip': None,\n                                     'host_port': None,\n                                     'name': None,\n                                     'protocol': 'TCP'}],\n                          'readiness_probe': None,\n                          'resources': {'claims': None,\n                                        'limits': None,\n                                        'requests': None},\n                          'security_context': None,\n                          'startup_probe': None,\n                          'stdin': None,\n                          'stdin_once': None,\n                          'termination_message_path': '/dev/termination-log',\n                          'termination_message_policy': 'File',\n                          'tty': None,\n                          'volume_devices': None,\n                          'volume_mounts': [{'mount_path': '/var/run/secrets/kubernetes.io/serviceaccount',\n                                             'mount_propagation': None,\n                                             'name': 'default-token-zkplr',\n                                             'read_only': True,\n                                             'sub_path': None,\n                                             'sub_path_expr': None}],\n                          'working_dir': None}],\n          'dns_config': None,\n          'dns_policy': 'ClusterFirst',\n          'enable_service_links': True,\n          'ephemeral_containers': None,\n          'host_aliases': None,\n          'host_ipc': None,\n          'host_network': None,\n          'host_pid': None,\n          'host_users': None,\n          'hostname': None,\n          'image_pull_secrets': None,\n          'init_containers': None,\n          'node_name': 'bigdata4',\n          'node_selector': {'kubernetes.io/hostname': 'bigdata4'},\n          'os': None,\n          'overhead': None,\n          'preemption_policy': None,\n          'priority': 0,\n          'priority_class_name': None,\n          'readiness_gates': None,\n          'resource_claims': None,\n          'restart_policy': 'Always',\n          'runtime_class_name': None,\n          'scheduler_name': 'default-scheduler',\n          'scheduling_gates': None,\n          'security_context': {'fs_group': None,\n                               'fs_group_change_policy': None,\n                               'run_as_group': None,\n                               'run_as_non_root': None,\n                               'run_as_user': None,\n                               'se_linux_options': None,\n                               'seccomp_profile': None,\n                               'supplemental_groups': None,\n                               'sysctls': None,\n                               'windows_options': None},\n          'service_account': 'default',\n          'service_account_name': 'default',\n          'set_hostname_as_fqdn': None,\n          'share_process_namespace': None,\n          'subdomain': None,\n          'termination_grace_period_seconds': 30,\n          'tolerations': [{'effect': 'NoExecute',\n                           'key': 'node.kubernetes.io/not-ready',\n                           'operator': 'Exists',\n                           'toleration_seconds': 300,\n                           'value': None},\n                          {'effect': 'NoExecute',\n                           'key': 'node.kubernetes.io/unreachable',\n                           'operator': 'Exists',\n                           'toleration_seconds': 300,\n                           'value': None}],\n          'topology_spread_constraints': None,\n          'volumes': [{'aws_elastic_block_store': None,\n                       'azure_disk': None,\n                       'azure_file': None,\n                       'cephfs': None,\n                       'cinder': None,\n                       'config_map': None,\n                       'csi': None,\n                       'downward_api': None,\n                       'empty_dir': None,\n                       'ephemeral': None,\n                       'fc': None,\n                       'flex_volume': None,\n                       'flocker': None,\n                       'gce_persistent_disk': None,\n                       'git_repo': None,\n                       'glusterfs': None,\n                       'host_path': None,\n                       'iscsi': None,\n                       'name': 'default-token-zkplr',\n                       'nfs': None,\n                       'persistent_volume_claim': None,\n                       'photon_persistent_disk': None,\n                       'portworx_volume': None,\n                       'projected': None,\n                       'quobyte': None,\n                       'rbd': None,\n                       'scale_io': None,\n                       'secret': {'default_mode': 420,\n                                  'items': None,\n                                  'optional': None,\n                                  'secret_name': 'default-token-zkplr'},\n                       'storageos': None,\n                       'vsphere_volume': None}]},\n 'status': {'conditions': [{'last_probe_time': None,\n                            'last_transition_time': datetime.datetime(2023, 4, 11, 7, 34, 57, tzinfo=tzutc()),\n                            'message': None,\n                            'reason': None,\n                            'status': 'True',\n                            'type': 'Initialized'},\n                           {'last_probe_time': None,\n                            'last_transition_time': datetime.datetime(2023, 4, 11, 7, 34, 58, tzinfo=tzutc()),\n                            'message': None,\n                            'reason': None,\n                            'status': 'True',\n                            'type': 'Ready'},\n                           {'last_probe_time': None,\n                            'last_transition_time': datetime.datetime(2023, 4, 11, 7, 34, 58, tzinfo=tzutc()),\n                            'message': None,\n                            'reason': None,\n                            'status': 'True',\n                            'type': 'ContainersReady'},\n                           {'last_probe_time': None,\n                            'last_transition_time': datetime.datetime(2023, 4, 11, 7, 34, 57, tzinfo=tzutc()),\n                            'message': None,\n                            'reason': None,\n                            'status': 'True',\n                            'type': 'PodScheduled'}],\n            'container_statuses': [{'container_id': 'docker://3801fbbb0665bf2a7f375ff8a49cb42b4b2a8ea8950021088873fc16de21662e',\n                                    'image': 'nginx:1.7.9',\n                                    'image_id': 'docker-pullable://nginx@sha256:e3456c851a152494c3e4ff5fcc26f240206abac0c9d794affb40e0714846c451',\n                                    'last_state': {'running': None,\n                                                   'terminated': None,\n                                                   'waiting': None},\n                                    'name': 'my-container',\n                                    'ready': True,\n                                    'restart_count': 0,\n                                    'started': True,\n                                    'state': {'running': {'started_at': datetime.datetime(2023, 4, 11, 7, 34, 58, tzinfo=tzutc())},\n                                              'terminated': None,\n                                              'waiting': None}}],\n            'ephemeral_container_statuses': None,\n            'host_ip': '192.168.0.95',\n            'init_container_statuses': None,\n            'message': None,\n            'nominated_node_name': None,\n            'phase': 'Running',\n            'pod_i_ps': [{'ip': '10.244.191.200'}],\n            'pod_ip': '10.244.191.200',\n            'qos_class': 'BestEffort',\n            'reason': None,\n            'start_time': datetime.datetime(2023, 4, 11, 7, 34, 57, tzinfo=tzutc())}}"
     },
     "execution_count": 13,
     "metadata": {},
     "output_type": "execute_result"
    }
   ],
   "source": [
    "# 删除pod\n",
    "core_v1.delete_namespaced_pod(\"nginx-707a92bf-ee28-4961-9a51-e580525caf87\", namespace=\"default\")"
   ],
   "metadata": {
    "collapsed": false,
    "pycharm": {
     "name": "#%%\n"
    }
   }
  },
  {
   "cell_type": "code",
   "execution_count": 18,
   "outputs": [
    {
     "data": {
      "text/plain": "{'api_version': 'apps/v1',\n 'kind': 'Deployment',\n 'metadata': {'annotations': None,\n              'creation_timestamp': datetime.datetime(2023, 4, 11, 7, 59, 28, tzinfo=tzutc()),\n              'deletion_grace_period_seconds': None,\n              'deletion_timestamp': None,\n              'finalizers': None,\n              'generate_name': None,\n              'generation': 1,\n              'labels': None,\n              'managed_fields': None,\n              'name': 'nginx-deployment-python',\n              'namespace': 'default',\n              'owner_references': None,\n              'resource_version': '45133',\n              'self_link': '/apis/apps/v1/namespaces/default/deployments/nginx-deployment-python',\n              'uid': '7a971e9c-d596-455b-8669-2728f45ee245'},\n 'spec': {'min_ready_seconds': None,\n          'paused': None,\n          'progress_deadline_seconds': 600,\n          'replicas': 3,\n          'revision_history_limit': 10,\n          'selector': {'match_expressions': None,\n                       'match_labels': {'app': 'nginx'}},\n          'strategy': {'rolling_update': {'max_surge': '25%',\n                                          'max_unavailable': '25%'},\n                       'type': 'RollingUpdate'},\n          'template': {'metadata': {'annotations': None,\n                                    'creation_timestamp': None,\n                                    'deletion_grace_period_seconds': None,\n                                    'deletion_timestamp': None,\n                                    'finalizers': None,\n                                    'generate_name': None,\n                                    'generation': None,\n                                    'labels': {'app': 'nginx'},\n                                    'managed_fields': None,\n                                    'name': None,\n                                    'namespace': None,\n                                    'owner_references': None,\n                                    'resource_version': None,\n                                    'self_link': None,\n                                    'uid': None},\n                       'spec': {'active_deadline_seconds': None,\n                                'affinity': None,\n                                'automount_service_account_token': None,\n                                'containers': [{'args': None,\n                                                'command': None,\n                                                'env': None,\n                                                'env_from': None,\n                                                'image': 'nginx:1.7.9',\n                                                'image_pull_policy': 'IfNotPresent',\n                                                'lifecycle': None,\n                                                'liveness_probe': None,\n                                                'name': 'nginx',\n                                                'ports': [{'container_port': 80,\n                                                           'host_ip': None,\n                                                           'host_port': None,\n                                                           'name': None,\n                                                           'protocol': 'TCP'}],\n                                                'readiness_probe': None,\n                                                'resources': {'claims': None,\n                                                              'limits': None,\n                                                              'requests': None},\n                                                'security_context': None,\n                                                'startup_probe': None,\n                                                'stdin': None,\n                                                'stdin_once': None,\n                                                'termination_message_path': '/dev/termination-log',\n                                                'termination_message_policy': 'File',\n                                                'tty': None,\n                                                'volume_devices': None,\n                                                'volume_mounts': None,\n                                                'working_dir': None}],\n                                'dns_config': None,\n                                'dns_policy': 'ClusterFirst',\n                                'enable_service_links': None,\n                                'ephemeral_containers': None,\n                                'host_aliases': None,\n                                'host_ipc': None,\n                                'host_network': None,\n                                'host_pid': None,\n                                'host_users': None,\n                                'hostname': None,\n                                'image_pull_secrets': None,\n                                'init_containers': None,\n                                'node_name': None,\n                                'node_selector': None,\n                                'os': None,\n                                'overhead': None,\n                                'preemption_policy': None,\n                                'priority': None,\n                                'priority_class_name': None,\n                                'readiness_gates': None,\n                                'resource_claims': None,\n                                'restart_policy': 'Always',\n                                'runtime_class_name': None,\n                                'scheduler_name': 'default-scheduler',\n                                'scheduling_gates': None,\n                                'security_context': {'fs_group': None,\n                                                     'fs_group_change_policy': None,\n                                                     'run_as_group': None,\n                                                     'run_as_non_root': None,\n                                                     'run_as_user': None,\n                                                     'se_linux_options': None,\n                                                     'seccomp_profile': None,\n                                                     'supplemental_groups': None,\n                                                     'sysctls': None,\n                                                     'windows_options': None},\n                                'service_account': None,\n                                'service_account_name': None,\n                                'set_hostname_as_fqdn': None,\n                                'share_process_namespace': None,\n                                'subdomain': None,\n                                'termination_grace_period_seconds': 30,\n                                'tolerations': None,\n                                'topology_spread_constraints': None,\n                                'volumes': None}}},\n 'status': {'available_replicas': None,\n            'collision_count': None,\n            'conditions': None,\n            'observed_generation': None,\n            'ready_replicas': None,\n            'replicas': None,\n            'unavailable_replicas': None,\n            'updated_replicas': None}}"
     },
     "execution_count": 18,
     "metadata": {},
     "output_type": "execute_result"
    }
   ],
   "source": [
    "# 创建deployment\n",
    "nginx_deploy = {\n",
    "    'apiVersion': 'apps/v1',\n",
    "    'kind': 'Deployment',\n",
    "    'metadata': {\n",
    "        'name': 'nginx-deployment-python',\n",
    "    },\n",
    "    'spec': {\n",
    "        'selector': {\n",
    "            \"matchLabels\": {\n",
    "                \"app\": \"nginx\"\n",
    "            }\n",
    "        },\n",
    "        \"replicas\": 3,\n",
    "        \"template\": {\n",
    "            \"metadata\": {\n",
    "                \"labels\": {\n",
    "                    \"app\": \"nginx\"\n",
    "                }\n",
    "            },\n",
    "            'spec': {\n",
    "                'containers': [\n",
    "                    {\n",
    "                        'name': 'nginx',\n",
    "                        'image': 'nginx:1.7.9',\n",
    "                        \"ports\": [\n",
    "                            {\n",
    "                                \"containerPort\": 80\n",
    "                            }\n",
    "                        ]\n",
    "                    }\n",
    "                ]\n",
    "            }\n",
    "        }\n",
    "    }\n",
    "}\n",
    "apps_v1.create_namespaced_deployment(namespace=\"default\", body=nginx_deploy)"
   ],
   "metadata": {
    "collapsed": false,
    "pycharm": {
     "name": "#%%\n"
    }
   }
  },
  {
   "cell_type": "code",
   "execution_count": 19,
   "outputs": [
    {
     "data": {
      "text/plain": "{'api_version': 'v1',\n 'code': None,\n 'details': {'causes': None,\n             'group': 'apps',\n             'kind': 'deployments',\n             'name': 'nginx-deployment-python',\n             'retry_after_seconds': None,\n             'uid': '7a971e9c-d596-455b-8669-2728f45ee245'},\n 'kind': 'Status',\n 'message': None,\n 'metadata': {'_continue': None,\n              'remaining_item_count': None,\n              'resource_version': None,\n              'self_link': None},\n 'reason': None,\n 'status': 'Success'}"
     },
     "execution_count": 19,
     "metadata": {},
     "output_type": "execute_result"
    }
   ],
   "source": [
    "# 删除Deploy\n",
    "apps_v1.delete_namespaced_deployment(namespace=\"default\", name=\"nginx-deployment-python\")"
   ],
   "metadata": {
    "collapsed": false,
    "pycharm": {
     "name": "#%%\n"
    }
   }
  },
  {
   "cell_type": "code",
   "execution_count": null,
   "outputs": [],
   "source": [
    "# 创建一个CustomObjectsApi实例\n",
    "# 定义CRD的组、版本和复数名称\n",
    "group = \"stable.example.com\"\n",
    "version = \"v1\"\n",
    "plural = \"crontabs\"\n",
    "\n",
    "# 定义CRD对象的元数据\n",
    "metadata = client.V1ObjectMeta(name=\"my-new-cron-object\")\n",
    "\n",
    "# 定义CRD对象的规格\n",
    "spec = {\n",
    "    \"cronSpec\": \"* * * * */5\",\n",
    "    \"image\": \"my-awesome-cron-image\"\n",
    "}\n",
    "\n",
    "# 创建CRD对象\n",
    "crd_object = {\n",
    "    \"apiVersion\": f\"{group}/{version}\",\n",
    "    \"kind\": \"CronTab\",\n",
    "    \"metadata\": metadata,\n",
    "    \"spec\": spec\n",
    "}\n",
    "\n",
    "# 在\"default\"命名空间中创建CRD对象\n",
    "custom_api.create_namespaced_custom_object(\n",
    "    group=group,\n",
    "    version=version,\n",
    "    namespace=\"default\",\n",
    "    plural=plural,\n",
    "    body=crd_object\n",
    ")"
   ],
   "metadata": {
    "collapsed": false,
    "pycharm": {
     "name": "#%%\n"
    }
   }
  }
 ],
 "metadata": {
  "kernelspec": {
   "display_name": "Python 3",
   "language": "python",
   "name": "python3"
  },
  "language_info": {
   "codemirror_mode": {
    "name": "ipython",
    "version": 2
   },
   "file_extension": ".py",
   "mimetype": "text/x-python",
   "name": "python",
   "nbconvert_exporter": "python",
   "pygments_lexer": "ipython2",
   "version": "2.7.6"
  }
 },
 "nbformat": 4,
 "nbformat_minor": 0
}